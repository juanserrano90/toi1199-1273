{
 "cells": [
  {
   "attachments": {},
   "cell_type": "markdown",
   "id": "099b2332",
   "metadata": {},
   "source": [
    "# Imports"
   ]
  },
  {
   "cell_type": "code",
   "execution_count": null,
   "id": "bce60221-8b9e-4049-8a2d-1a3b560d59af",
   "metadata": {
    "execution": {
     "iopub.execute_input": "2022-04-18T01:12:12.754036Z",
     "iopub.status.busy": "2022-04-18T01:12:12.753625Z",
     "iopub.status.idle": "2022-04-18T01:12:18.606800Z",
     "shell.execute_reply": "2022-04-18T01:12:18.605857Z"
    }
   },
   "outputs": [],
   "source": [
    "# Our tools\n",
    "import exoplanet as xo\n",
    "import numpy as np\n",
    "import matplotlib.pyplot as plt\n",
    "import pandas as pd\n",
    "import lightkurve as lk\n",
    "from astropy.io import fits\n",
    "from astropy.timeseries import BoxLeastSquares\n",
    "from scipy import stats\n",
    "import graphviz\n",
    "import astropy.units as u\n",
    "from astropy.timeseries import LombScargle\n",
    "\n",
    "import pymc3 as pm\n",
    "import aesara_theano_fallback.tensor as tt\n",
    "import pymc3_ext as pmx\n",
    "from functools import partial\n",
    "from scipy import constants\n",
    "\n",
    "import os\n",
    "import warnings\n",
    "#os.environ[\"MKL_THREADING_LAYER\"] = \"GNU\"\n",
    "#warnings.filterwarnings(\"ignore\", category=DeprecationWarning)\n",
    "#warnings.filterwarnings(\"ignore\", category=FutureWarning)"
   ]
  },
  {
   "cell_type": "code",
   "execution_count": null,
   "id": "ab0d3af8",
   "metadata": {},
   "outputs": [],
   "source": [
    "plt.rcParams.update(plt.rcParamsDefault)\n",
    "%matplotlib inline\n",
    "plt.style.use('seaborn-dark-palette')"
   ]
  },
  {
   "cell_type": "code",
   "execution_count": null,
   "id": "a4a9ae22",
   "metadata": {},
   "outputs": [],
   "source": [
    "plt.rcParams[\"figure.figsize\"]=8,6\n",
    "plt.rcParams.update({'font.size': 16})"
   ]
  },
  {
   "attachments": {},
   "cell_type": "markdown",
   "id": "a11901fe",
   "metadata": {},
   "source": [
    "# Data "
   ]
  },
  {
   "attachments": {},
   "cell_type": "markdown",
   "id": "2cc8d223",
   "metadata": {},
   "source": [
    "## Tess"
   ]
  },
  {
   "cell_type": "code",
   "execution_count": null,
   "id": "acb8591f",
   "metadata": {},
   "outputs": [],
   "source": [
    "#sectors times, 41-48\n",
    "from astropy.time import Time\n",
    "sectors = ['2019-07-18T20:30:00', '2019-08-14T17:05:00', '2020-01-21T22:25:00', '2020-02-18T06:55:00', '2021-07-24T11:45:00','2021-08-20T02:05:00','2022-01-28T10:25:00','2022-02-25T11:50:00']\n",
    "sectors_times = Time(sectors, format='fits')\n",
    "sectors_times_btjd = sectors_times.jd-2457000\n",
    "sectors_times_btjd"
   ]
  },
  {
   "cell_type": "code",
   "execution_count": null,
   "id": "5ab68334",
   "metadata": {},
   "outputs": [],
   "source": [
    "lk.search_targetpixelfile('TIC 99869022')"
   ]
  },
  {
   "cell_type": "code",
   "execution_count": null,
   "id": "5433dddf",
   "metadata": {},
   "outputs": [],
   "source": [
    "tpf = lk.search_targetpixelfile('TIC 99869022', exptime='short', sector=41).download_all(quality_bitmask='hard')"
   ]
  },
  {
   "cell_type": "code",
   "execution_count": null,
   "id": "20905990",
   "metadata": {},
   "outputs": [],
   "source": [
    "tpf.plot()"
   ]
  },
  {
   "cell_type": "code",
   "execution_count": null,
   "id": "1a3b2f78",
   "metadata": {},
   "outputs": [],
   "source": [
    "# !python ~/Descargas/tpfplotter/tpfplotter.py 99869022 --maglim 6 --sector 21"
   ]
  },
  {
   "cell_type": "code",
   "execution_count": null,
   "id": "376de54f",
   "metadata": {},
   "outputs": [],
   "source": [
    "lk.search_lightcurve('TIC 99869022')"
   ]
  },
  {
   "cell_type": "code",
   "execution_count": null,
   "id": "bc991641",
   "metadata": {},
   "outputs": [],
   "source": [
    "lk.search_lightcurve('TIC 99869022', exptime=1800)"
   ]
  },
  {
   "cell_type": "code",
   "execution_count": null,
   "id": "f6da198b",
   "metadata": {},
   "outputs": [],
   "source": [
    "lc_file_long = lk.search_lightcurve('TIC 99869022', exptime=1800, author='TESS-SPOC').download_all(flux_column=\"pdcsap_flux\")"
   ]
  },
  {
   "cell_type": "code",
   "execution_count": null,
   "id": "c8705c1a",
   "metadata": {},
   "outputs": [],
   "source": [
    "lc_file_long.plot()"
   ]
  },
  {
   "cell_type": "code",
   "execution_count": null,
   "id": "227f3da4",
   "metadata": {},
   "outputs": [],
   "source": [
    "lc_file = lk.search_lightcurve('TIC 99869022', author='SPOC').download_all(flux_column=\"pdcsap_flux\")\n",
    "lc = lc_file.stitch().remove_nans().normalize().remove_outliers()\n",
    "time = lc.time.value\n",
    "flux = lc.flux\n",
    "\n",
    "lc_long = lc_file_long.stitch().remove_nans().normalize()\n",
    "time_long = lc_long.time.value\n",
    "flux_long = lc_long.flux\n",
    "\n",
    "with fits.open(lc_file[0].filename) as hdu:\n",
    "    hdr = hdu[1].header\n",
    "with fits.open(lc_file_long[0].filename) as hdu:\n",
    "    hdr_long = hdu[1].header\n",
    "\n",
    "texp_long = hdr_long[\"FRAMETIM\"] * hdr_long[\"NUM_FRM\"]\n",
    "texp_long /= 60.0 * 60.0 * 24.0\n",
    "texp = hdr[\"FRAMETIM\"] * hdr[\"NUM_FRM\"]\n",
    "texp /= 60.0 * 60.0 * 24.0\n",
    "\n",
    "ref_time = 0.5 * (np.min(time) + np.max(time))\n",
    "x_ = np.ascontiguousarray(time - ref_time, dtype=np.float64)\n",
    "y_ = np.ascontiguousarray(1e3 * (flux - 1.0), dtype=np.float64) # Here we convert flux to ppt\n",
    "yerr_ = np.ascontiguousarray(1e3 * lc.flux_err, dtype=np.float64) \n",
    "\n",
    "xlong_ = np.ascontiguousarray(time_long - ref_time, dtype=np.float64)\n",
    "ylong_ = np.ascontiguousarray(1e3 * (flux_long - 1.0), dtype=np.float64) # Here we convert flux to ppt\n",
    "yerrlong_ = np.ascontiguousarray(1e3 * lc_long.flux_err, dtype=np.float64)\n",
    "\n",
    "plt.figure(figsize=(12, 6))\n",
    "plt.plot(time, y_, \"o\", color='black',markersize=2)\n",
    "plt.plot(time_long, ylong_, \"o\", color='red',markersize=2)\n",
    "plt.xlabel(\"Time [BTJD]\")\n",
    "plt.ylabel(\"Relative flux\")\n",
    "#_ = plt.xlim(x_.min(), x_.max())\n",
    "#plt.savefig('tessdata_1199.png',dpi=300,bbox_inches='tight')"
   ]
  },
  {
   "cell_type": "code",
   "execution_count": null,
   "id": "8b335f91",
   "metadata": {},
   "outputs": [],
   "source": [
    "fig, (ax1, ax2, ax3, ax4) = plt.subplots(1,4, sharey=True, figsize=(16,4), gridspec_kw={'width_ratios': [1,1,1,1]})\n",
    "fig.subplots_adjust(wspace=0.05)\n",
    "ax1.plot(time_long, ylong_, \"o\", color='#348ABD', markersize=1, alpha=0.6)\n",
    "ax2.plot(time_long, ylong_, \"o\", color='#348ABD', markersize=1, alpha=0.6)\n",
    "ax3.plot(time, y_, \"o\", color='#348ABD', markersize=1, alpha=0.6)\n",
    "ax4.plot(time, y_, \"o\", color='#348ABD', markersize=1, alpha=0.6)\n",
    "off=5\n",
    "ax1.set_xlim(sectors_times_btjd[0]-off, sectors_times_btjd[1]+off)  \n",
    "ax2.set_xlim(sectors_times_btjd[2]-off, sectors_times_btjd[3]+off)  \n",
    "ax3.set_xlim(sectors_times_btjd[4]-off, sectors_times_btjd[5]+off)\n",
    "ax4.set_xlim(sectors_times_btjd[6]-off, sectors_times_btjd[7]+off)\n",
    "#ax2.set_xticks([2600, 2650, 2700])\n",
    "ax1.spines.right.set_visible(False)\n",
    "ax2.spines.left.set_visible(False)\n",
    "ax2.spines.right.set_visible(False)\n",
    "ax3.spines.left.set_visible(False)\n",
    "ax3.spines.right.set_visible(False)\n",
    "ax4.spines.left.set_visible(False)\n",
    "\n",
    "ax1.yaxis.tick_left()\n",
    "ax2.yaxis.tick_right()\n",
    "ax3.yaxis.tick_right()\n",
    "ax4.yaxis.tick_right()\n",
    "ax1.tick_params(labelright=False)\n",
    "ax2.tick_params(axis='y', which='both', left=False, right=False, \n",
    "                labelright=False, labelleft=False)\n",
    "ax3.tick_params(axis='y', which='both', left=False, right=False, \n",
    "                labelright=False, labelleft=False)\n",
    "ax4.tick_params(labelleft=False)\n",
    "ax1.tick_params(axis='both', which='major', labelsize=13)\n",
    "ax2.tick_params(axis='both', which='major', labelsize=13)\n",
    "ax3.tick_params(axis='both', which='major', labelsize=13)\n",
    "ax4.tick_params(axis='both', which='major', labelsize=13)\n",
    "d = .5  \n",
    "kwargs = dict(marker=[(-1, -d), (1, d)], markersize=12,\n",
    "              linestyle=\"none\", color='k', mec='k', mew=1, clip_on=False)\n",
    "ax1.plot([1, 1], [0, 1], transform=ax1.transAxes, **kwargs)\n",
    "ax2.plot([0, 0], [1, 0], transform=ax2.transAxes, **kwargs)\n",
    "ax2.plot([1, 1], [0, 1], transform=ax2.transAxes, **kwargs)\n",
    "ax3.plot([0, 0], [1, 0], transform=ax3.transAxes, **kwargs)\n",
    "ax3.plot([1, 1], [0, 1], transform=ax3.transAxes, **kwargs)\n",
    "ax4.plot([0, 0], [1, 0], transform=ax4.transAxes, **kwargs)\n",
    "for i in sectors_times_btjd[:2]:\n",
    "    ax1.axvline(x=i, color='gray', linestyle='--', linewidth=1.3, alpha=0.8)\n",
    "for i in sectors_times_btjd[2:4]:\n",
    "    ax2.axvline(x=i, color='gray', linestyle='--', linewidth=1.3, alpha=0.8)\n",
    "for i in sectors_times_btjd[4:6]:\n",
    "    ax3.axvline(x=i, color='gray', linestyle='--', linewidth=1.3, alpha=0.8)\n",
    "for i in sectors_times_btjd[6:]:\n",
    "    ax4.axvline(x=i, color='gray', linestyle='--', linewidth=1.3, alpha=0.8)\n",
    "fig.text(0.5, 0.001, \"Time (BJD - 2,457,000)\", ha='center', va='center', size=14)\n",
    "fig.text(0.095, 0.5, u'$\\Delta Flux$ (‰)', ha='center', va='center', rotation='vertical', size=14)\n",
    "ax1.text(sectors_times_btjd[0]+(sectors_times_btjd[1]-sectors_times_btjd[0])/2, 5.33, \n",
    "    \"S14\", ha=\"center\", va=\"center\", size=12, fontfamily='serif',\n",
    "    bbox=dict(boxstyle=\"circle,pad=0.15\", fc='white', lw=0.5))\n",
    "ax2.text(sectors_times_btjd[2]+(sectors_times_btjd[3]-sectors_times_btjd[2])/2, 5.33, \n",
    "    \"S21\", ha=\"center\", va=\"center\", size=12, fontfamily='serif',\n",
    "    bbox=dict(boxstyle=\"circle, pad=0.15\", fc='white', lw=0.5))\n",
    "ax3.text(sectors_times_btjd[4]+(sectors_times_btjd[5]-sectors_times_btjd[4])/2, 5.33, \n",
    "    \"S41\", ha=\"center\", va=\"center\", size=12, fontfamily='serif',\n",
    "    bbox=dict(boxstyle=\"circle, pad=0.15\", fc='white', lw=0.5))\n",
    "ax4.text(sectors_times_btjd[6]+(sectors_times_btjd[7]-sectors_times_btjd[6])/2, 5.33, \n",
    "    \"S48\", ha=\"center\", va=\"center\", size=12, fontfamily='serif',\n",
    "    bbox=dict(boxstyle=\"circle, pad=0.15\", fc='white', lw=0.5))\n",
    "#plt.savefig('tessdata_1199.png',dpi=300,bbox_inches='tight', facecolor='white')\n",
    "plt.show()"
   ]
  },
  {
   "attachments": {},
   "cell_type": "markdown",
   "id": "265ede62",
   "metadata": {},
   "source": [
    "BLS"
   ]
  },
  {
   "cell_type": "code",
   "execution_count": null,
   "id": "341eeec7",
   "metadata": {},
   "outputs": [],
   "source": [
    "xt = np.concatenate((xlong_, x_), axis=0)\n",
    "yt = np.concatenate((ylong_, y_), axis=0)\n",
    "yerrt = np.concatenate((yerrlong_, yerr_), axis=0)"
   ]
  },
  {
   "cell_type": "code",
   "execution_count": null,
   "id": "47158dd4",
   "metadata": {},
   "outputs": [],
   "source": [
    "period_grid = np.exp(np.linspace(np.log(1), np.log(15), 30000)) #1 y 15 -- 1 y 30\n",
    "durations = np.exp(np.linspace(np.log(0.01), np.log(0.2), 100))\n",
    "\n",
    "bls = BoxLeastSquares(x_, y_, yerr_)\n",
    "bls_power = bls.power(period_grid, durations, oversample=30)\n",
    "\n",
    "# Save the highest peak as the planet candidate\n",
    "index = np.argmax(bls_power.power)\n",
    "bls_period = bls_power.period[index]\n",
    "bls_t0 = bls_power.transit_time[index]\n",
    "bls_depth = bls_power.depth[index]\n",
    "bls_duration = bls_power.duration[index]\n",
    "\n",
    "print('bls period:', bls_period)\n",
    "print('bls t0:', bls_t0)\n",
    "print('bls depth:', bls_depth)\n",
    "print('ref_time:', ref_time)\n",
    "print('epoch:', bls_t0 + ref_time)\n",
    "print('bls duration:', bls_duration*24)"
   ]
  },
  {
   "cell_type": "code",
   "execution_count": null,
   "id": "b3c8726e",
   "metadata": {},
   "outputs": [],
   "source": [
    "# tess project fit\n",
    "spoc_depth = 4.340 \n",
    "spoc_duration = 2.149/24\n",
    "spoc_period = 3.671463"
   ]
  },
  {
   "cell_type": "code",
   "execution_count": null,
   "id": "a4f8c58e",
   "metadata": {},
   "outputs": [],
   "source": [
    "# 50000, 1000, 30\n",
    "# bls period: 3.6714776169735264\n",
    "# bls t0: -107.44944712249175\n",
    "# bls depth: 3.736413756919435\n",
    "# ref_time: 2527.9875009679236\n",
    "# epoch: 2420.538053845432\n",
    "# bls duration: 1.9840000000000007"
   ]
  },
  {
   "cell_type": "code",
   "execution_count": null,
   "id": "89d9a4b3",
   "metadata": {},
   "outputs": [],
   "source": [
    "fig, (ax1, ax2) = plt.subplots(2, 1, figsize=(9, 6), gridspec_kw={'height_ratios': [1, 2]})\n",
    "fig.subplots_adjust(hspace=0.35)\n",
    "\n",
    "ax1.axvline(np.log10(bls_period), color=\"red\", lw=5, alpha=0.4)\n",
    "ax1.axvline(np.log10(bls_period/2), linestyle='dotted', color=\"red\", lw=4, alpha=0.4)\n",
    "ax1.axvline(np.log10(bls_period/3), linestyle='dotted', color=\"red\", lw=4, alpha=0.4)\n",
    "#ax1.axvline(np.log10(bls_period/4), linestyle='dotted', color=\"red\", lw=4, alpha=0.4)\n",
    "ax1.axvline(np.log10(bls_period*2), linestyle='dotted', color=\"red\", lw=4, alpha=0.4)\n",
    "ax1.axvline(np.log10(bls_period*3), linestyle='dotted', color=\"red\", lw=4, alpha=0.4)\n",
    "ax1.axvline(np.log10(bls_period*4), linestyle='dotted', color=\"red\", lw=4, alpha=0.4)\n",
    "ax1.plot(np.log10(bls_power.period), bls_power.power, \"k\")\n",
    "ax1.set_ylim(0,3500)\n",
    "ax1.set_ylabel(\"Power\", labelpad=32)\n",
    "ax1.set_yticks([])\n",
    "ax1.set_xlim(np.log10(period_grid.min())+0.001, np.log10(period_grid.max()))\n",
    "ax1.set_xlabel(r\"$\\log_{10}~ P$ [d]\")\n",
    "\n",
    "# Plot the folded transit\n",
    "x_fold_ = (x_ - bls_t0 + 0.5 * bls_period) % bls_period - 0.5 * bls_period\n",
    "x_fold_long = (xlong_ - bls_t0 + 0.5 * bls_period) % bls_period - 0.5 * bls_period\n",
    "xt_fold = (xt - bls_t0 + 0.5 * bls_period) % bls_period - 0.5 * bls_period\n",
    "# x_fold_ = (x_ - t0_ + 0.5 * p_) % p_ - 0.5 * p_\n",
    "# x_fold_long = (xlong_ - t0_ + 0.5 * p_) % p_ - 0.5 * p_\n",
    "# xt_fold = (xt - t0_ + 0.5 * p_) % p_ - 0.5 * p_\n",
    "\n",
    "# ax2.plot(x_fold_long*24, ylong_, \".\", alpha=0.6, ms=4, color='r', zorder=102)\n",
    "# ax2.errorbar(x_fold_long*24, ylong_, yerr=yerrlong_, color='r', fmt=\"none\", capsize=0, elinewidth=1, zorder=10000, alpha=0.5)\n",
    "# ax2.plot(x_fold_*24, y_, \".\", alpha=0.7, ms=5, color='#348ABD', zorder=101)\n",
    "# ax2.errorbar(x_fold_*24, y_, yerr=yerr_, fmt=\"none\", color='#348ABD', elinewidth=1, alpha=0.2, capsize=0, zorder=10000)\n",
    "ax2.plot(xt_fold*24, yt, \".\", alpha=0.4, ms=7, color='#348ABD', zorder=100)\n",
    "ax2.errorbar(xt_fold*24, yt, yerr=yerrt, fmt=\"none\", color='#348ABD', elinewidth=1, alpha=0.4, capsize=0)\n",
    "ax2.set_ylim(-8,6)\n",
    "ax2.set_yticks([-8,-6,-4,-2,0,2,4,6])\n",
    "\n",
    "#Overplot the phase binned light curve\n",
    "lcc = lk.LightCurve(time=xt_fold, flux=yt, flux_err=yerrt)\n",
    "lcc_binned = lcc.bin(time_bin_size=0.01)\n",
    "ax2.errorbar(lcc_binned['time'].value*24, lcc_binned['flux'].value, yerr=lcc_binned['flux_err'].value, fmt='o', color='k', \n",
    "                ms=5, markeredgecolor='k', markerfacecolor='k', markeredgewidth=0, capsize=2, alpha=0.8)\n",
    "ax2.set_xlim(-0.11*24, 0.11*24)\n",
    "ax2.set_ylabel(u'$\\Delta Flux$ [‰]', labelpad=0)\n",
    "_ = ax2.set_xlabel(\"Time since transit [h]\")\n",
    "\n",
    "# plot the BLS model\n",
    "x_bin = np.linspace(-0.3, 0.3, 1000)\n",
    "f = bls.model(x_bin + bls_t0, bls_period, bls_duration, bls_t0)\n",
    "ax2.plot(x_bin*24, f, lw=1.75)\n",
    "plt.tight_layout()\n",
    "\n",
    "#plt.savefig('bls_paper_1199.png', dpi=300, bbox_inches='tight', facecolor='white')"
   ]
  },
  {
   "cell_type": "code",
   "execution_count": null,
   "id": "8cb4fb56",
   "metadata": {},
   "outputs": [],
   "source": [
    "transit_mask = bls.transit_mask(x_, bls_period, 0.2, bls_t0)\n",
    "transit_mask_long = bls.transit_mask(xlong_, bls_period, 0.2, bls_t0)\n",
    "x_fold_ = (x_ - bls_t0 + 0.5*bls_period) % bls_period - 0.5*bls_period\n",
    "\n",
    "# Me quedo solo con los puntos cerca de los transitos\n",
    "x_fold = x_fold_[transit_mask]\n",
    "x = x_[transit_mask]\n",
    "y = y_[transit_mask]\n",
    "yerr = yerr_[transit_mask]\n",
    "\n",
    "xlong = xlong_[transit_mask_long]\n",
    "ylong = ylong_[transit_mask_long]\n",
    "yerrlong = yerrlong_[transit_mask_long]\n",
    "\n",
    "plt.scatter(x_fold, y, c='k', s=2)\n",
    "\n",
    "plt.xlabel(\"time since transit [days]\")\n",
    "plt.ylabel(\"relative flux [ppt]\")\n",
    "#plt.xlim(-0.12,0.12)"
   ]
  },
  {
   "cell_type": "code",
   "execution_count": null,
   "id": "dc4dfcbb",
   "metadata": {},
   "outputs": [],
   "source": [
    "len(y)"
   ]
  },
  {
   "attachments": {},
   "cell_type": "markdown",
   "id": "bcc719d3",
   "metadata": {},
   "source": [
    "## SOPHIE RVs"
   ]
  },
  {
   "cell_type": "code",
   "execution_count": null,
   "id": "c45990ae",
   "metadata": {},
   "outputs": [],
   "source": [
    "data = pd.read_table('./data/rvs/1199_final_rvs.dat', sep='\\s+')\n",
    "data.rename(columns={'rv(km/s)': 'rv', 'sigRV(km/s)':'err', 'bis(km/s)': 'bis'}, inplace=True)\n",
    "snr= pd.read_table('./data/rvs/SNR_1199', sep='\\s+', header=None) # SNR\n",
    "\n",
    "x_rv = np.array(data.bjd+2400000-2457000)-ref_time\n",
    "y_rv = np.array((data.rv-data.rv.mean())*1000)\n",
    "yerr_rv = np.array(data.err*1000)\n",
    "fig, ax = plt.subplots(figsize=(7,4))\n",
    "# horizontal line at 0\n",
    "ax.axhline(y=0, color='k', linestyle='--', linewidth=0.8, alpha=0.8)\n",
    "ax.errorbar(data.bjd+2400000-2457000, y_rv, yerr=yerr_rv, fmt=\".k\", markersize=8, capsize=0, elinewidth=0.5, alpha=0.8)\n",
    "ax.set_xlabel(\"Time [TBJD]\", fontsize=12)\n",
    "ax.set_ylabel(\"$\\Delta_{RV}$ (m/s)\", fontsize=12)\n",
    "ax.set_title('TOI-1199 b', fontsize=13)\n",
    "ax.set_ylim(-70,70)\n",
    "ax.tick_params(axis='both', which='major', labelsize=13)\n",
    "plt.savefig('rvs_1199.png',dpi=300,bbox_inches='tight', facecolor='white')\n"
   ]
  },
  {
   "cell_type": "code",
   "execution_count": null,
   "id": "8c999de3",
   "metadata": {},
   "outputs": [],
   "source": [
    "snr[2].values.mean()"
   ]
  },
  {
   "cell_type": "code",
   "execution_count": null,
   "id": "abf9ebb2",
   "metadata": {},
   "outputs": [],
   "source": [
    "# Compute a reference time that will be used to normalize the trends model\n",
    "x_ref = 0.5 * (x_rv.min() + x_rv.max())\n",
    "\n",
    "K = xo.estimate_semi_amplitude(bls_period, x_rv, y_rv, yerr_rv, t0s=bls_t0)\n",
    "print(K, \"m/s\")\n",
    "\n",
    "# Stellar parameters from Sousa\n",
    "M_star = 1.23, 0.07\n",
    "R_star = 1.45, 0.03\n",
    "teff = 5710\n",
    "\n",
    "msini = xo.estimate_minimum_mass(bls_period, x_rv, y_rv, yerr_rv, t0s=bls_t0, m_star=M_star[0])\n",
    "msini = msini.to(u.M_earth)\n",
    "print('minimum mass=', msini)"
   ]
  },
  {
   "attachments": {},
   "cell_type": "markdown",
   "id": "605b9fa0",
   "metadata": {},
   "source": [
    "Periodograms"
   ]
  },
  {
   "cell_type": "code",
   "execution_count": null,
   "id": "1bbf6642",
   "metadata": {},
   "outputs": [],
   "source": [
    "# read de BIS data\n",
    "ls = LombScargle(data.bjd, data.rv, data.err)\n",
    "ls_bis = LombScargle(data.bjd, data.bis)\n",
    "ls_w = LombScargle(data.bjd, np.ones(len(data.bjd)), data.err, fit_mean=False, center_data=False)\n",
    "\n",
    "frequency, power = ls.autopower(minimum_frequency=0.001, maximum_frequency=2, samples_per_peak=5)\n",
    "\n",
    "frequency_bis, power_bis = ls_bis.autopower(minimum_frequency=0.001, maximum_frequency=2, samples_per_peak=5)\n",
    "\n",
    "frequency_window, power_window = ls_w.autopower(minimum_frequency=0.001, maximum_frequency=2, samples_per_peak=15)\n",
    "\n",
    "probabilities = [0.1, 0.05, 0.01]\n",
    "faps = ls.false_alarm_level(probabilities)  \n",
    "faps_bis = ls_bis.false_alarm_level(probabilities)\n"
   ]
  },
  {
   "cell_type": "code",
   "execution_count": null,
   "id": "e57f4ecf",
   "metadata": {},
   "outputs": [],
   "source": [
    "# aliases computed in DACE\n",
    "aliases = [1.374, 1.369, 0.786, 0.784]"
   ]
  },
  {
   "cell_type": "code",
   "execution_count": null,
   "id": "de949174",
   "metadata": {},
   "outputs": [],
   "source": [
    "from matplotlib.ticker import ScalarFormatter\n",
    "# plot two figures in a column\n",
    "fig, axes = plt.subplots(3, 1, sharex=False, figsize=(10, 6))\n",
    "axes[0].plot(1/frequency, power, label='RVs') \n",
    "axes[1].plot(1/frequency_bis, power_bis, label='BIS') \n",
    "axes[2].plot(1/frequency_window, power_window, label='Window function')\n",
    "plt.subplots_adjust(left=None, bottom=None, right=None, top=None, wspace=None, hspace=0.3)\n",
    "\n",
    "axes[0].set_xlabel('')\n",
    "axes[0].set_xlim(0.6, 1000)\n",
    "axes[0].set_ylim(0, 1.0)\n",
    "axes[1].set_xlabel('')\n",
    "axes[1].set_xlim(0.6, 1000)\n",
    "axes[1].set_ylim(0, 1.0)\n",
    "axes[2].set_xlabel('Period [d]')\n",
    "axes[2].set_xlim(0.6, 1000)\n",
    "axes[2].set_ylim(0, 1.0)\n",
    "\n",
    "axes[0].set_xscale('log')\n",
    "axes[1].set_xscale('log')\n",
    "axes[2].set_xscale('log')\n",
    "\n",
    "axes[0].set_ylabel('power')\n",
    "axes[1].set_ylabel('power')\n",
    "axes[2].set_ylabel('power')\n",
    "axes[0].legend(loc='upper right')\n",
    "axes[1].legend(loc='upper right')\n",
    "axes[2].legend(loc='upper right')\n",
    "# overplot the false alarm probabilities\n",
    "for i, prob in enumerate(probabilities):\n",
    "    axes[0].axhline(faps[i], ls=':', color='black', label='{}%'.format(prob))\n",
    "    axes[1].axhline(faps_bis[i], ls=':', color='black', label='{}%'.format(prob))\n",
    "\n",
    "# plot the 'bls_period' as a vertical line behind the plot\n",
    "axes[0].axvline(bls_period, ls=':', color='red', label='bls period')\n",
    "axes[1].axvline(bls_period, ls=':', color='red', label='bls period')\n",
    "\n",
    "formatter = ScalarFormatter()\n",
    "axes[0].xaxis.set_major_formatter(formatter)\n",
    "axes[1].xaxis.set_major_formatter(formatter)\n",
    "#plt.savefig('bisrv_periodogram_1199.png', dpi=300, bbox_inches='tight', facecolor='white')\n",
    "plt.show()"
   ]
  },
  {
   "cell_type": "code",
   "execution_count": null,
   "id": "5d859ca8",
   "metadata": {},
   "outputs": [],
   "source": [
    "def windowfunction(t, erv, prange):\n",
    "\n",
    "    w = (1/erv**2)/np.sum(1/erv**2)\n",
    "\n",
    "    wf = np.zeros(len(prange))\n",
    "\n",
    "    for i in range(len(prange)):\n",
    "\n",
    "        omega = 2 * np.pi / prange[i]\n",
    "\n",
    "        ccos = np.cos(omega*t)\n",
    "        ssin = np.sin(omega*t)\n",
    "\n",
    "        wC = np.sum(w*ccos)\n",
    "        wS = np.sum(w*ssin)\n",
    "\n",
    "        wC = np.sum(ccos)/len(ccos)\n",
    "        wS = np.sum(ssin)/len(ssin)\n",
    "\n",
    "        wf[i] = wC * wC + wS * wS\n",
    "    return wf"
   ]
  },
  {
   "cell_type": "code",
   "execution_count": null,
   "id": "f3a79678",
   "metadata": {},
   "outputs": [],
   "source": [
    "prange = np.logspace(-1, 3, 100000)\n",
    "wf = windowfunction(data.bjd, data.err, prange)\n",
    "wf"
   ]
  },
  {
   "cell_type": "code",
   "execution_count": null,
   "id": "f41efdab",
   "metadata": {},
   "outputs": [],
   "source": [
    "fig, axes = plt.subplots(3, 1, sharex=False, figsize=(10, 6))\n",
    "axes[0].plot(1/frequency, power, label='RVs') \n",
    "axes[1].plot(1/frequency_bis, power_bis, label='BIS') \n",
    "axes[2].plot(prange, wf, label='Window function')\n",
    "plt.subplots_adjust(left=None, bottom=None, right=None, top=None, wspace=None, hspace=0.3)\n",
    "\n",
    "axes[0].set_xlabel('')\n",
    "axes[0].set_xlim(0.6, 1000)\n",
    "axes[0].set_ylim(0, 1.0)\n",
    "axes[1].set_xlabel('')\n",
    "axes[1].set_xlim(0.6, 1000)\n",
    "axes[1].set_ylim(0, 1.0)\n",
    "axes[2].set_xlabel('Period [d]')\n",
    "axes[2].set_xlim(0.6, 1000)\n",
    "axes[2].set_ylim(0, 1.0)\n",
    "\n",
    "axes[0].set_xscale('log')\n",
    "axes[1].set_xscale('log')\n",
    "axes[2].set_xscale('log')\n",
    "\n",
    "axes[0].set_ylabel('power')\n",
    "axes[1].set_ylabel('power')\n",
    "axes[2].set_ylabel('power')\n",
    "axes[0].legend(loc='upper right')\n",
    "axes[1].legend(loc='upper right')\n",
    "axes[2].legend(loc='upper right')\n",
    "# overplot the false alarm probabilities\n",
    "for i, prob in enumerate(probabilities):\n",
    "    axes[0].axhline(faps[i], ls=':', color='black', label='{}%'.format(prob))\n",
    "    axes[1].axhline(faps_bis[i], ls=':', color='black', label='{}%'.format(prob))\n",
    "\n",
    "# plot the 'bls_period' as a vertical line behind the plot\n",
    "axes[0].axvline(bls_period, ls=':', color='red', label='bls period')\n",
    "axes[1].axvline(bls_period, ls=':', color='red', label='bls period')\n",
    "\n",
    "formatter = ScalarFormatter()\n",
    "axes[0].xaxis.set_major_formatter(formatter)\n",
    "axes[1].xaxis.set_major_formatter(formatter)\n",
    "#plt.savefig('bisrv_periodogram_1199.png', dpi=300, bbox_inches='tight', facecolor='white')\n",
    "plt.show()"
   ]
  },
  {
   "cell_type": "code",
   "execution_count": null,
   "id": "4dd7a8ca",
   "metadata": {},
   "outputs": [],
   "source": [
    "fig, axes = plt.subplots(2,1, figsize=(10, 6))\n",
    "plt.subplots_adjust(left=None, bottom=None, right=None, top=None, wspace=None, hspace=0.2)\n",
    "axes[0].plot(1/frequency_window, power_window, label='Window function (LS)')\n",
    "axes[1].plot(prange, wf, label='Window function (Rodrigo)')\n",
    "axes[0].set_xlabel('')\n",
    "axes[1].set_xlabel('Period [d]')\n",
    "axes[0].set_xlim(0.6, 1000)\n",
    "axes[0].set_ylim(0, 1.0)\n",
    "axes[1].set_xlim(0.6, 1000)\n",
    "axes[1].set_ylim(0, 1.0)\n",
    "axes[0].set_xscale('log')\n",
    "axes[1].set_xscale('log')\n",
    "axes[0].set_ylabel('power')\n",
    "axes[1].set_ylabel('power')\n",
    "axes[0].legend(loc='upper right')\n",
    "axes[1].legend(loc='upper right')\n",
    "#plt.savefig('windowfunction_1199.png', dpi=300, bbox_inches='tight', facecolor='white')"
   ]
  },
  {
   "attachments": {},
   "cell_type": "markdown",
   "id": "57bddd6c",
   "metadata": {},
   "source": [
    "BIS vs rvs"
   ]
  },
  {
   "cell_type": "code",
   "execution_count": null,
   "id": "5f8bf99c",
   "metadata": {},
   "outputs": [],
   "source": [
    "fig, ax = plt.subplots(1, 1, figsize=(6, 5))\n",
    "g = ax.scatter(y_rv, data.bis*1e3, c=data.bjd, cmap='viridis_r', s=50, zorder=10)\n",
    "# add errorbars on data.rv\n",
    "ax.errorbar(y_rv, data.bis*1e3, xerr=yerr_rv, fmt='none', ecolor='k', markersize=8, zorder=-10)\n",
    "ax.set_xlabel(\"$\\Delta$RV [m/s]\")\n",
    "ax.set_ylabel(\"BIS [m/s]\")\n",
    "fig.colorbar(g, label='BJD - 2,400,000 (days)')\n",
    "#plt.savefig('bisrv_1199.png', dpi=300, bbox_inches='tight', facecolor='white')\n",
    "plt.show()"
   ]
  },
  {
   "cell_type": "code",
   "execution_count": null,
   "id": "d0110ee0",
   "metadata": {},
   "outputs": [],
   "source": [
    "0.5*np.log(bls_depth * 1e-3)"
   ]
  },
  {
   "cell_type": "code",
   "execution_count": null,
   "id": "954717ed",
   "metadata": {},
   "outputs": [],
   "source": [
    "np.log(np.median(yerr_rv))"
   ]
  },
  {
   "attachments": {},
   "cell_type": "markdown",
   "id": "2181a9b2",
   "metadata": {},
   "source": [
    "## Ground LCs"
   ]
  },
  {
   "attachments": {},
   "cell_type": "markdown",
   "id": "c3f81309",
   "metadata": {},
   "source": [
    "### KeplerCam"
   ]
  },
  {
   "cell_type": "code",
   "execution_count": null,
   "id": "115580e5",
   "metadata": {},
   "outputs": [],
   "source": [
    "# filtros griz sloan: B y z'\n",
    "# B     440nm\t\t483.5nm\t                        43.5nm\n",
    "# z'\t>820nm\t    966.5nm\t                        255.8nm\t"
   ]
  },
  {
   "cell_type": "code",
   "execution_count": null,
   "id": "a7e29acb",
   "metadata": {},
   "outputs": [],
   "source": [
    "data1 = pd.read_table('./data/photom/TOI1199/KEPLERCAM/TIC99869022.01_UT2021.0213_KeplerCam_B.dat', sep='\\s+')\n",
    "data2 = pd.read_table('./data/photom/TOI1199/KEPLERCAM/TIC99869022.01_UT2021.0413_KeplerCam_B.dat', sep='\\s+')\n",
    "data3 = pd.read_table('./data/photom/TOI1199/KEPLERCAM/TIC99869022.01_UT2021.0213_KeplerCam_z.dat', sep='\\s+')\n",
    "data4 = pd.read_table('./data/photom/TOI1199/KEPLERCAM/TIC99869022.01_UT2021.0413_KeplerCam_z.dat', sep='\\s+')\n",
    "data1.columns"
   ]
  },
  {
   "cell_type": "code",
   "execution_count": null,
   "id": "8a8cdd82",
   "metadata": {},
   "outputs": [],
   "source": [
    "#puntos?\n",
    "print('puntos:', len(data1)+len(data2)+len(data3)+len(data4))\n",
    "# texp?\n",
    "print('texp:', np.median(np.diff(data1['BJD_TDB']))*24*60*60)\n",
    "texp_keplercam = None"
   ]
  },
  {
   "cell_type": "code",
   "execution_count": null,
   "id": "913ee1b7",
   "metadata": {},
   "outputs": [],
   "source": [
    "data1['flux'] = ((data1['rel_flux_T1']/(data1['rel_flux_T1'].median())))*1e3\n",
    "data2['flux'] = ((data2['rel_flux_T1']/(data2['rel_flux_T1'].median())))*1e3\n",
    "data3['flux'] = ((data3['rel_flux_T1']/(data3['rel_flux_T1'].median())))*1e3\n",
    "data4['flux'] = ((data4['rel_flux_T1']/(data4['rel_flux_T1'].median())))*1e3\n",
    "\n",
    "data1['flux_err'] = ((data1['rel_flux_err_T1']/(data1['rel_flux_T1'].median())))*1e3\n",
    "data1['flux_err'] = ((data1['rel_flux_err_T1']/(data1['rel_flux_T1'].median())))*1e3\n",
    "data2['flux_err'] = ((data2['rel_flux_err_T1']/(data2['rel_flux_T1'].median())))*1e3\n",
    "data3['flux_err'] = ((data3['rel_flux_err_T1']/(data3['rel_flux_T1'].median())))*1e3\n",
    "data4['flux_err'] = ((data4['rel_flux_err_T1']/(data4['rel_flux_T1'].median())))*1e3\n",
    "\n",
    "data1['time'] = data1['BJD_TDB']-2457000-ref_time\n",
    "data2['time'] = data2['BJD_TDB']-2457000-ref_time\n",
    "data3['time'] = data3['BJD_TDB']-2457000-ref_time\n",
    "data4['time'] = data4['BJD_TDB']-2457000-ref_time"
   ]
  },
  {
   "cell_type": "code",
   "execution_count": null,
   "id": "4fc78fc1",
   "metadata": {},
   "outputs": [],
   "source": [
    "out_mask3 = np.abs(data3.flux-data4.flux.mean())<3*data3.flux.std()\n",
    "out_mask1 = np.abs(data1.flux-data2.flux.mean())<3*data1.flux.std()\n",
    "data3 = data3[out_mask3]\n",
    "data1 = data1[out_mask1]\n",
    "\n",
    "k_mask1 = bls.transit_mask(data1['time'], bls_period, 0.2, bls_t0)\n",
    "k_mask2 = bls.transit_mask(data2['time'], bls_period, 0.2, bls_t0)\n",
    "k_mask3 = bls.transit_mask(data3['time'], bls_period, 0.2, bls_t0)\n",
    "k_mask4 = bls.transit_mask(data4['time'], bls_period, 0.2, bls_t0)\n",
    "\n",
    "data1 = data1[k_mask1]\n",
    "data2 = data2[k_mask2]\n",
    "data3 = data3[k_mask3]\n",
    "data4 = data4[k_mask4]"
   ]
  },
  {
   "cell_type": "code",
   "execution_count": null,
   "id": "403e22ee",
   "metadata": {},
   "outputs": [],
   "source": [
    "#puntos?\n",
    "print('puntos:', len(data1)+len(data2)+len(data3)+len(data4))"
   ]
  },
  {
   "cell_type": "code",
   "execution_count": null,
   "id": "2a6ea1f5",
   "metadata": {},
   "outputs": [],
   "source": [
    "# Lest plot them together\n",
    "plt.plot(data1['time'], data1['flux'], 'o', label='2021.0213_KeplerCam_B')\n",
    "plt.plot(data2['time'], data2['flux'], 'o', label='2021.0413_KeplerCam_B')\n",
    "plt.plot(data3['time'], data3['flux'], 'o', label='2021.0213_KeplerCam_z')\n",
    "plt.plot(data4['time'], data4['flux'], 'o', label='2021.0413_KeplerCam_z')\n",
    "plt.xlim(-211, -210)\n",
    "#plt.xlim(-269.2,-268.5)\n",
    "plt.show()"
   ]
  },
  {
   "cell_type": "code",
   "execution_count": null,
   "id": "b608a293",
   "metadata": {},
   "outputs": [],
   "source": [
    "# Plot the folded data, con los parametros del BLS\n",
    "data1_fold = (data1['time'] - bls_t0 + 0.5 * bls_period) % bls_period - 0.5 * bls_period\n",
    "data2_fold = (data2['time'] - bls_t0 + 0.5 * bls_period) % bls_period - 0.5 * bls_period\n",
    "data3_fold = (data3['time'] - bls_t0 + 0.5 * bls_period) % bls_period - 0.5 * bls_period\n",
    "data4_fold = (data4['time'] - bls_t0 + 0.5 * bls_period) % bls_period - 0.5 * bls_period\n",
    "\n",
    "plt.figure(figsize=(10, 5))\n",
    "#plt.plot(data1_fold*24, data1['flux'], \".k\", label=\"data1\", zorder=-1000)\n",
    "#plt.plot(data2_fold*24, data2['flux'], \".k\", label=\"data2\", zorder=-1000)\n",
    "plt.plot(data3_fold*24, data3['flux'], \".k\", label=\"data3\", zorder=-1000)\n",
    "#plt.plot(data4_fold*24, data4['flux'], \".k\", label=\"data4\", zorder=-1000)\n",
    "\n",
    "plt.ylabel(\"de-trended flux (ppt)\")\n",
    "plt.xlabel('time since transit (hours)')\n",
    "plt.xlim(-0.10*24, 0.10*24)\n",
    "plt.ylim(990,1010)\n",
    "plt.title(\"TOI1199\")\n",
    "#plt.savefig('new_phot_1199.png',dpi=200,bbox_inches='tight', facecolor='white')\n",
    "plt.show()"
   ]
  },
  {
   "cell_type": "code",
   "execution_count": null,
   "id": "162d22fd",
   "metadata": {},
   "outputs": [],
   "source": [
    "# ajustemos un pol grado 2 a los datos oot\n",
    "# mascaras para sacar los datos en transito\n",
    "oot_mask1 = bls.transit_mask(data1['time'], spoc_period, spoc_duration, bls_t0)\n",
    "oot_mask2 = bls.transit_mask(data2['time'], spoc_period, spoc_duration, bls_t0)\n",
    "oot_mask3 = bls.transit_mask(data3['time'], spoc_period, spoc_duration, bls_t0)\n",
    "oot_mask4 = bls.transit_mask(data4['time'], spoc_period, spoc_duration, bls_t0)"
   ]
  },
  {
   "cell_type": "code",
   "execution_count": null,
   "id": "191623d2",
   "metadata": {},
   "outputs": [],
   "source": [
    "# checking the oot mask\n",
    "plt.figure(figsize=(10, 5))\n",
    "plt.plot((data1_fold*24)[~oot_mask1], data1['flux'][~oot_mask1], \".k\", label=\"data1\", zorder=-1000)\n",
    "plt.plot((data2_fold*24)[~oot_mask2], data2['flux'][~oot_mask2], \".g\", label=\"data2\", zorder=-1000)\n",
    "plt.plot((data3_fold*24)[~oot_mask3], data3['flux'][~oot_mask3], \".r\", label=\"data3\", zorder=-1000)\n",
    "plt.plot((data4_fold*24)[~oot_mask4], data4['flux'][~oot_mask4], \".b\", label=\"data4\", zorder=-1000)"
   ]
  },
  {
   "cell_type": "code",
   "execution_count": null,
   "id": "708ee217",
   "metadata": {},
   "outputs": [],
   "source": [
    "# fitemos un pol grado 2 a los datos oot\n",
    "# separando por bandas y fecha del transito\n",
    "z_B1 = np.polyfit((data1_fold*24)[~oot_mask1], data1['flux'][~oot_mask1], 2) \n",
    "z_B2 = np.polyfit((data2_fold*24)[~oot_mask2], data2['flux'][~oot_mask2], 2)\n",
    "z_z1 = np.polyfit((data3_fold*24)[~oot_mask3], data3['flux'][~oot_mask3], 2)\n",
    "z_z2 = np.polyfit((data4_fold*24)[~oot_mask4], data4['flux'][~oot_mask4], 2)\n",
    "\n",
    "def pol_B1(x):\n",
    "    return np.asarray(z_B1[0]*x**2 + z_B1[1]*x + z_B1[2])\n",
    "def pol_B2(x):\n",
    "    return np.asarray(z_B2[0]*x**2 + z_B2[1]*x + z_B2[2])\n",
    "def pol_z1(x):\n",
    "    return np.asarray(z_z1[0]*x**2 + z_z1[1]*x + z_z1[2])\n",
    "def pol_z2(x):\n",
    "    return np.asarray(z_z2[0]*x**2 + z_z2[1]*x + z_z2[2])"
   ]
  },
  {
   "cell_type": "code",
   "execution_count": null,
   "id": "d7e2b73c",
   "metadata": {},
   "outputs": [],
   "source": [
    "plt.figure(figsize=(10, 5))\n",
    "plt.plot((data1_fold*24)[~oot_mask1], data1['flux'][~oot_mask1], \".r\", label=\"data1\", zorder=-1000)\n",
    "plt.plot((data2_fold*24)[~oot_mask2], data2['flux'][~oot_mask2], \".g\", label=\"data2\", zorder=-1000)\n",
    "plt.plot((data3_fold*24)[~oot_mask3], data3['flux'][~oot_mask3], \".k\", label=\"data3\", zorder=-1000)\n",
    "plt.plot((data4_fold*24)[~oot_mask4], data4['flux'][~oot_mask4], \".b\", label=\"data4\", zorder=-1000)\n",
    "x_plot_B1 = np.linspace(np.min((data1_fold*24)[~oot_mask1]), np.max((data1_fold*24)[~oot_mask1]), 1000) \n",
    "x_plot_B2 = np.linspace(np.min((data2_fold*24)[~oot_mask2]), np.max((data2_fold*24)[~oot_mask2]), 1000)\n",
    "x_plot_z1 = np.linspace(np.min((data3_fold*24)[~oot_mask3]), np.max((data3_fold*24)[~oot_mask3]), 1000)\n",
    "x_plot_z2 = np.linspace(np.min((data4_fold*24)[~oot_mask4]), np.max((data4_fold*24)[~oot_mask4]), 1000)\n",
    "plt.plot(x_plot_B1, pol_B1(x_plot_B1), color=\"r\", linestyle=\"--\")\n",
    "plt.plot(x_plot_B2, pol_B2(x_plot_B2), color=\"g\", linestyle=\"--\")\n",
    "plt.plot(x_plot_z1, pol_z1(x_plot_z1), color=\"k\", linestyle=\"--\")\n",
    "plt.plot(x_plot_z2, pol_z2(x_plot_z2), color=\"b\", linestyle=\"--\")\n",
    "\n",
    "#plt.savefig('ajuste_phot_1199.png',dpi=200,bbox_inches='tight', facecolor='white')"
   ]
  },
  {
   "cell_type": "code",
   "execution_count": null,
   "id": "997a28a2",
   "metadata": {},
   "outputs": [],
   "source": [
    "#replot dividing by polynomial\n",
    "plt.figure(figsize=(8, 5))\n",
    "# Plot the data\n",
    "plt.plot(data1_fold*24, (data1['flux']/pol_B1(data1_fold*24)-1)*1e3, 'o', ms=3, color='r', zorder=1000, alpha=0.8)\n",
    "plt.plot(data2_fold*24, (data2['flux']/pol_B2(data2_fold*24)-1)*1e3, 'o', ms=3, color='g', zorder=1000, alpha=0.8)\n",
    "plt.plot(data3_fold*24, (data3['flux']/pol_z1(data3_fold*24)-1)*1e3, 'o', ms=3, color='k', zorder=1000, alpha=0.8)\n",
    "plt.plot(data4_fold*24, (data4['flux']/pol_z2(data4_fold*24)-1)*1e3, 'o', ms=3, color='b', zorder=1000, alpha=0.8)\n",
    "#plt.legend(fontsize=14, loc=4)\n",
    "plt.ylabel(u'$\\Delta Flux$ [‰]')\n",
    "plt.xlabel(\"Time since transit [h]\")\n",
    "plt.yticks([-12,-10,-8, -6, -4, -2,0,2,4,6,8,10,12])\n",
    "plt.xlim(-0.10*24, 0.10*24)\n",
    "# horizontal line at 0\n",
    "plt.axhline(0, color=\"k\", linestyle=\":\")\n",
    "plt.ylim(-12, 12)\n",
    "plt.tight_layout()\n",
    "#plt.savefig('new_phot_1199_keplercam.png',dpi=300,bbox_inches='tight', facecolor='white')\n",
    "plt.show()\n"
   ]
  },
  {
   "cell_type": "code",
   "execution_count": null,
   "id": "6335d9a9",
   "metadata": {},
   "outputs": [],
   "source": [
    "# datos de keplercam finales\n",
    "y_conc_B = np.concatenate(((data1['flux']/pol_B1(data1_fold*24)-1)*1e3, \n",
    "                          (data2['flux']/pol_B2(data2_fold*24)-1)*1e3), axis=None)\n",
    "y_conc_z = np.concatenate(((data3['flux']/pol_z1(data3_fold*24)-1)*1e3, \n",
    "                          (data4['flux']/pol_z2(data4_fold*24)-1)*1e3), axis=None)\n",
    "yerr_conc_B = np.concatenate((data1['flux_err'], data2['flux_err']), axis=None)\n",
    "yerr_conc_z = np.concatenate((data3['flux_err'], data4['flux_err']), axis=None)\n",
    "\n",
    "x_keplercam_B = np.concatenate((data1['time'], data2['time']), axis=None)\n",
    "x_keplercam_z = np.concatenate((data3['time'], data4['time']), axis=None)\n",
    "y_keplercam_B = y_conc_B\n",
    "yerr_keplercam_B = yerr_conc_B\n",
    "y_keplercam_z = y_conc_z\n",
    "yerr_keplercam_z = yerr_conc_z"
   ]
  },
  {
   "cell_type": "code",
   "execution_count": null,
   "id": "73120d59",
   "metadata": {},
   "outputs": [],
   "source": [
    "# new detrending ?"
   ]
  },
  {
   "cell_type": "code",
   "execution_count": null,
   "id": "f66a65b2",
   "metadata": {},
   "outputs": [],
   "source": [
    "data1_ = pd.read_table('data/photom/TOI1199/KEPLERCAM/TIC99869022.01_UT2021.0213_KeplerCam_B.tbl', sep='\\s+')\n",
    "data2_ = pd.read_table('data/photom/TOI1199/KEPLERCAM/TIC99869022.01_UT2021.0413_KeplerCam_B_measurements.tbl', sep='\\s+')\n",
    "data3_ = pd.read_table('data/photom/TOI1199/KEPLERCAM/TIC99869022.01_UT2021.0213_KeplerCam_z.tbl', sep='\\s+')\n",
    "data4_ = pd.read_table('data/photom/TOI1199/KEPLERCAM/TIC99869022.01_UT2021.0413_KeplerCam_z_measurements.tbl', sep='\\s+')"
   ]
  },
  {
   "cell_type": "code",
   "execution_count": null,
   "id": "612ed8e0",
   "metadata": {},
   "outputs": [],
   "source": [
    "data1_['flux'] = data1_['rel_flux_T1_dn']*1e3-1e3\n",
    "data2_['flux'] = data2_['rel_flux_T1_dn']*1e3-1e3\n",
    "data3_['flux'] = data3_['rel_flux_T1_dn']*1e3-1e3\n",
    "data4_['flux'] = data4_['rel_flux_T1_dn']*1e3-1e3\n",
    "\n",
    "data1_['flux_err'] = data1_['rel_flux_err_T1_dn']*1e3\n",
    "data2_['flux_err'] = data2_['rel_flux_err_T1_dn']*1e3\n",
    "data3_['flux_err'] = data3_['rel_flux_err_T1_dn']*1e3\n",
    "data4_['flux_err'] = data4_['rel_flux_err_T1_dn']*1e3\n",
    "\n",
    "data1_['time'] = data1_['BJD_TDB']-2457000-ref_time\n",
    "data2_['time'] = data2_['BJD_TDB']-2457000-ref_time\n",
    "data3_['time'] = data3_['BJD_TDB']-2457000-ref_time\n",
    "data4_['time'] = data4_['BJD_TDB']-2457000-ref_time"
   ]
  },
  {
   "cell_type": "code",
   "execution_count": null,
   "id": "916c1399",
   "metadata": {},
   "outputs": [],
   "source": [
    "# Plot the folded data, con los parametros del BLS\n",
    "data1_fold_ = (data1_['time'] - bls_t0 + 0.5 * bls_period) % bls_period - 0.5 * bls_period\n",
    "data2_fold_ = (data2_['time'] - bls_t0 + 0.5 * bls_period) % bls_period - 0.5 * bls_period\n",
    "data3_fold_ = (data3_['time'] - bls_t0 + 0.5 * bls_period) % bls_period - 0.5 * bls_period\n",
    "data4_fold_ = (data4_['time'] - bls_t0 + 0.5 * bls_period) % bls_period - 0.5 * bls_period\n",
    "\n",
    "plt.figure(figsize=(10, 5))\n",
    "plt.plot(data1_fold_*24, data1_['flux'], \".k\", label=\"data1\", zorder=-1000)\n",
    "plt.plot(data2_fold_*24, data2_['flux'], \".k\", label=\"data2\", zorder=-1000)\n",
    "plt.plot(data3_fold_*24, data3_['flux'], \".k\", label=\"data3\", zorder=-1000)\n",
    "plt.plot(data4_fold_*24, data4_['flux'], \".k\", label=\"data4\", zorder=-1000)\n",
    "plt.plot(data1_fold*24, (data1['flux']/pol_B1(data1_fold*24)-1)*1e3, 'o', ms=3, color='r', zorder=1000, alpha=0.8)\n",
    "plt.plot(data2_fold*24, (data2['flux']/pol_B2(data2_fold*24)-1)*1e3, 'o', ms=3, color='r', zorder=1000, alpha=0.8)\n",
    "plt.plot(data3_fold*24, (data3['flux']/pol_z1(data3_fold*24)-1)*1e3, 'o', ms=3, color='r', zorder=1000, alpha=0.8)\n",
    "plt.plot(data4_fold*24, (data4['flux']/pol_z2(data4_fold*24)-1)*1e3, 'o', ms=3, color='r', zorder=1000, alpha=0.8)\n",
    "plt.ylabel(\"de-trended flux (ppt)\")\n",
    "plt.xlabel('time since transit (hours)')\n",
    "plt.title(\"TOI1199\")\n",
    "#plt.savefig('new_phot_1199.png',dpi=200,bbox_inches='tight', facecolor='white')\n",
    "plt.show()"
   ]
  },
  {
   "attachments": {},
   "cell_type": "markdown",
   "id": "180bb4be",
   "metadata": {},
   "source": [
    "### MuSCAT2"
   ]
  },
  {
   "cell_type": "code",
   "execution_count": null,
   "id": "3f3696c1",
   "metadata": {},
   "outputs": [],
   "source": [
    "# filtros griz sloan: g', r', i', z'\n",
    "#       Wavelength\tEffective Central Wavelength\tFWHM\t\n",
    "# g'\t401-550nm\t475.4nm\t                        138.7nm\t\n",
    "# r'\t562-695nm\t620.4nm\t                        124.0nm\t\n",
    "# i'\t695-844nm\t769.8nm\t                        130.3nm\t\n",
    "# z'\t>820nm\t    900.0nm\t                        100.0nm"
   ]
  },
  {
   "cell_type": "code",
   "execution_count": null,
   "id": "ce736763",
   "metadata": {},
   "outputs": [],
   "source": [
    "data5 = pd.read_table('./data/photom/TOI1199/TOI1199-01_MuSCAT2/TOI1199-01_20210427_zs_TCS_MuSCAT2_Detrended.dat', names=['bjd', 'flux', 'flux_err'], sep='\\s+')\n",
    "data6 = pd.read_table('./data/photom/TOI1199/TOI1199-01_MuSCAT2/TOI1199-01_20210427._g_TCS_MuSCAT2_Detrended.dat', names=['bjd', 'flux', 'flux_err'], sep='\\s+')\n",
    "data7 = pd.read_table('./data/photom/TOI1199/TOI1199-01_MuSCAT2/TOI1199-01_20210427._i_TCS_MuSCAT2_Detrended.dat', names=['bjd', 'flux', 'flux_err'], sep='\\s+')\n",
    "data8 = pd.read_table('./data/photom/TOI1199/TOI1199-01_MuSCAT2/TOI1199-01_20210427._r_TCS_MuSCAT2_Detrended.dat', names=['bjd', 'flux', 'flux_err'], sep='\\s+')\n"
   ]
  },
  {
   "cell_type": "code",
   "execution_count": null,
   "id": "2b928c7d",
   "metadata": {},
   "outputs": [],
   "source": [
    "print(np.mean(data7['flux']-1))\n",
    "print(np.mean(data7['flux']/np.median(data7['flux'])-1))"
   ]
  },
  {
   "cell_type": "code",
   "execution_count": null,
   "id": "085d1b3a",
   "metadata": {},
   "outputs": [],
   "source": [
    "# Convert time to the same reference time as tess and flux to ppt\n",
    "data5['bjd'] = data5['bjd']-2457000-ref_time\n",
    "data6['bjd'] = data6['bjd']-2457000-ref_time\n",
    "data7['bjd'] = data7['bjd']-2457000-ref_time\n",
    "data8['bjd'] = data8['bjd']-2457000-ref_time\n",
    "data5['flux'] = np.ascontiguousarray(1e3 * (data5['flux'] - 1.0), dtype=np.float64) \n",
    "data6['flux'] = np.ascontiguousarray(1e3 * (data6['flux'] - 1.0), dtype=np.float64)\n",
    "data7['flux'] = np.ascontiguousarray(1e3 * (data7['flux'] - 1.0), dtype=np.float64)\n",
    "data8['flux'] = np.ascontiguousarray(1e3 * (data8['flux'] - 1.0), dtype=np.float64)\n",
    "data5['flux_err'] = np.ascontiguousarray(1e3 * (data5['flux_err']), dtype=np.float64) \n",
    "data6['flux_err'] = np.ascontiguousarray(1e3 * (data6['flux_err']), dtype=np.float64)\n",
    "data7['flux_err'] = np.ascontiguousarray(1e3 * (data7['flux_err']), dtype=np.float64)\n",
    "data8['flux_err'] = np.ascontiguousarray(1e3 * (data8['flux_err']), dtype=np.float64)"
   ]
  },
  {
   "cell_type": "code",
   "execution_count": null,
   "id": "a509183c",
   "metadata": {},
   "outputs": [],
   "source": [
    "# Texp?\n",
    "print(np.median(np.diff(data8['bjd']))*24*60*60)\n",
    "texp_muscat = None"
   ]
  },
  {
   "cell_type": "code",
   "execution_count": null,
   "id": "2d2fdc51",
   "metadata": {},
   "outputs": [],
   "source": [
    "plt.figure(figsize=(12, 5))\n",
    "plt.plot(data5.bjd, data5.flux, 'o', label='z', ms=2)\n",
    "plt.plot(data6.bjd, data6.flux, 'o', label='z', ms=2)\n",
    "plt.plot(data7.bjd, data7.flux, 'o', label='z', ms=2)\n",
    "plt.plot(data8.bjd, data8.flux, 'o', label='z', ms=2)\n",
    "plt.show()"
   ]
  },
  {
   "cell_type": "code",
   "execution_count": null,
   "id": "4a39a4ef",
   "metadata": {},
   "outputs": [],
   "source": [
    "# Plot the folded data, con los parametros del BLS\n",
    "data5_fold = (data5['bjd'] - bls_t0 + 0.5 * bls_period) % bls_period - 0.5 * bls_period\n",
    "data6_fold = (data6['bjd'] - bls_t0 + 0.5 * bls_period) % bls_period - 0.5 * bls_period\n",
    "data7_fold = (data7['bjd'] - bls_t0 + 0.5 * bls_period) % bls_period - 0.5 * bls_period\n",
    "data8_fold = (data8['bjd'] - bls_t0 + 0.5 * bls_period) % bls_period - 0.5 * bls_period\n",
    "\n",
    "muscat_time = pd.concat([data5_fold, data6_fold, data7_fold, data8_fold], ignore_index=True)\n",
    "# datos finales muscat\n",
    "x_muscat_zs_ = np.ascontiguousarray(data5['bjd'], dtype=np.float64)\n",
    "x_muscat_g_ = np.ascontiguousarray(data6['bjd'], dtype=np.float64)\n",
    "x_muscat_i_ = np.ascontiguousarray(data7['bjd'], dtype=np.float64)\n",
    "x_muscat_r_ = np.ascontiguousarray(data8['bjd'], dtype=np.float64)\n",
    "y_muscat_zs_ = np.ascontiguousarray(data5['flux'], dtype=np.float64)\n",
    "y_muscat_g_ = np.ascontiguousarray(data6['flux'], dtype=np.float64)\n",
    "y_muscat_i_ = np.ascontiguousarray(data7['flux'], dtype=np.float64)\n",
    "y_muscat_r_ = np.ascontiguousarray(data8['flux'], dtype=np.float64)\n",
    "yerr_muscat_zs_ = np.ascontiguousarray(data5['flux_err'], dtype=np.float64)\n",
    "yerr_muscat_g_ = np.ascontiguousarray(data6['flux_err'], dtype=np.float64)\n",
    "yerr_muscat_i_ = np.ascontiguousarray(data7['flux_err'], dtype=np.float64)\n",
    "yerr_muscat_r_ = np.ascontiguousarray(data8['flux_err'], dtype=np.float64)\n",
    "\n",
    "plt.figure(figsize=(10, 5))\n",
    "plt.plot(data5_fold*24, y_muscat_zs_, '.', label='Muscat2_zs', alpha=0.6, zorder=100)\n",
    "plt.errorbar(data5_fold*24, y_muscat_zs_, yerr=yerr_muscat_zs_, fmt=\"none\", alpha=0.2, color='#777777', capsize=1, zorder=-100)\n",
    "plt.plot(data6_fold*24, y_muscat_g_, '.', label='Muscat2_g', alpha=0.6, zorder=100)\n",
    "plt.errorbar(data6_fold*24, y_muscat_g_, yerr=yerr_muscat_g_, fmt=\"none\", alpha=0.2, color='#777777', capsize=1, zorder=-100)\n",
    "plt.plot(data7_fold*24, y_muscat_i_, '.', color='red', label='Muscat2_i', alpha=0.6, zorder=100)\n",
    "plt.errorbar(data7_fold*24, y_muscat_i_, yerr=yerr_muscat_i_, fmt=\"none\", alpha=0.2, color='#777777', capsize=1, zorder=-100)\n",
    "plt.plot(data8_fold*24, y_muscat_r_, '.', label='Muscat2_r', alpha=0.6, zorder=100)\n",
    "plt.errorbar(data8_fold*24, y_muscat_r_, yerr=yerr_muscat_r_, fmt=\"none\", alpha=0.2, color='#777777', capsize=1, zorder=-100)\n",
    "\n",
    "plt.ylabel(\"de-trended flux (ppt)\")\n",
    "plt.xlabel('time since transit (hours)')\n",
    "#plt.xlim(-0.10*24, 0.10*24)\n",
    "plt.ylim(-25,25)\n",
    "plt.title(\"TOI1199\")\n",
    "#plt.savefig('new_phot_1199.png',dpi=200,bbox_inches='tight', facecolor='white')\n",
    "plt.show()"
   ]
  },
  {
   "cell_type": "code",
   "execution_count": null,
   "id": "0ed48881",
   "metadata": {},
   "outputs": [],
   "source": [
    "# mask the first half of the transit\n",
    "x_muscat_zs = x_muscat_zs_[data5_fold*24>0.10]\n",
    "x_muscat_g = x_muscat_g_[data6_fold*24>0.10]\n",
    "x_muscat_i = x_muscat_i_[data7_fold*24>0.10]\n",
    "x_muscat_r = x_muscat_r_[data8_fold*24>0.10]\n",
    "y_muscat_zs = y_muscat_zs_[data5_fold*24>0.10]\n",
    "y_muscat_g = y_muscat_g_[data6_fold*24>0.10]\n",
    "y_muscat_i = y_muscat_i_[data7_fold*24>0.10]\n",
    "y_muscat_r = y_muscat_r_[data8_fold*24>0.10]\n",
    "yerr_muscat_zs = yerr_muscat_zs_[data5_fold*24>0.10]\n",
    "yerr_muscat_g = yerr_muscat_g_[data6_fold*24>0.10]\n",
    "yerr_muscat_i = yerr_muscat_i_[data7_fold*24>0.10]\n",
    "yerr_muscat_r = yerr_muscat_r_[data8_fold*24>0.10]\n",
    "\n",
    "print(len(x_muscat_zs), len(y_muscat_zs), len(yerr_muscat_zs))\n",
    "print(len(x_muscat_g), len(y_muscat_g), len(yerr_muscat_g))\n",
    "print(len(x_muscat_i), len(y_muscat_i), len(yerr_muscat_i))\n",
    "print(len(x_muscat_r), len(y_muscat_r), len(yerr_muscat_r))\n"
   ]
  },
  {
   "attachments": {},
   "cell_type": "markdown",
   "id": "c4138689",
   "metadata": {},
   "source": [
    "# LC dataset"
   ]
  },
  {
   "cell_type": "code",
   "execution_count": null,
   "id": "139e04bb",
   "metadata": {},
   "outputs": [],
   "source": [
    "from collections import OrderedDict\n",
    "\n",
    "# datasets = OrderedDict(\n",
    "#     [\n",
    "#         (\"tess_2min\", [x, y, yerr, texp]),\n",
    "#         (\"tess_30min\", [xlong, ylong, yerrlong, texp_long]),\n",
    "#         (\"keplercam_B\", [x_keplercam_B, y_keplercam_B, yerr_keplercam_B, texp_keplercam]),\n",
    "#         ('muscat_g', [x_muscat_g, y_muscat_g, yerr_muscat_g, texp_muscat]),\n",
    "#         ('muscat_r', [x_muscat_r, y_muscat_r, yerr_muscat_r, texp_muscat]),\n",
    "#         ('muscat_i', [x_muscat_i, y_muscat_i, yerr_muscat_i, texp_muscat]),\n",
    "#         (\"keplercam_z\", [x_keplercam_z, y_keplercam_z, yerr_keplercam_z, texp_keplercam]),\n",
    "#         ('muscat_zs', [x_muscat_zs, y_muscat_zs, yerr_muscat_zs, texp_muscat]),\n",
    "#     ]\n",
    "# )\n",
    "datasets = OrderedDict(\n",
    "    [\n",
    "        (\"tess_2min\", [x, y, yerr, texp]),\n",
    "        (\"tess_30min\", [xlong, ylong, yerrlong, texp_long]),\n",
    "        (\"keplercam_B\", [x_keplercam_B, y_keplercam_B, yerr_keplercam_B, texp_keplercam]),\n",
    "        (\"keplercam_z\", [x_keplercam_z, y_keplercam_z, yerr_keplercam_z, texp_keplercam]),\n",
    "    ]\n",
    ")"
   ]
  },
  {
   "cell_type": "code",
   "execution_count": null,
   "id": "fce53634",
   "metadata": {},
   "outputs": [],
   "source": [
    "for n, (name, (x_, y_, yerr_, texp_)) in enumerate(datasets.items()):\n",
    "    print(n, name, len(x_), len(y_), len(yerr_), type(x_), type(y_), type(yerr_))"
   ]
  },
  {
   "cell_type": "code",
   "execution_count": null,
   "id": "422b0e6f",
   "metadata": {},
   "outputs": [],
   "source": [
    "fig, axes = plt.subplots(1, len(datasets), sharey=True, figsize=(15, 5))\n",
    "\n",
    "for i, (name, (t, y, _, _)) in enumerate(datasets.items()):\n",
    "    ax = axes[i]\n",
    "    ax.plot(t, y, \"k\", lw=0.75, label=name)\n",
    "    ax.set_xlabel(\"time\")\n",
    "    ax.set_title(name, fontsize=14)\n",
    "\n",
    "    x_mid = 0.5 * (t.min() + t.max())\n",
    "    ax.set_xlim(x_mid - 120, x_mid + 120)\n",
    "axes[0].set_ylim(-10, 10)\n",
    "fig.subplots_adjust(wspace=0.05)\n",
    "_ = axes[0].set_ylabel(\"relative flux [ppt]\")"
   ]
  },
  {
   "cell_type": "code",
   "execution_count": null,
   "id": "22c3e569",
   "metadata": {},
   "outputs": [],
   "source": [
    "K_est = xo.estimate_semi_amplitude(bls_period, x_rv, y_rv, yerr_rv, t0s=bls_t0)\n",
    "print(K_est, \"m/s\")"
   ]
  },
  {
   "cell_type": "code",
   "execution_count": null,
   "id": "71ae52ed",
   "metadata": {},
   "outputs": [],
   "source": [
    "K_est.item()"
   ]
  },
  {
   "cell_type": "code",
   "execution_count": null,
   "id": "62d4247c",
   "metadata": {},
   "outputs": [],
   "source": [
    "0.5*np.log(spoc_depth * 1e-3)"
   ]
  },
  {
   "attachments": {},
   "cell_type": "markdown",
   "id": "4c376919",
   "metadata": {},
   "source": [
    "# Joint model"
   ]
  },
  {
   "cell_type": "code",
   "execution_count": null,
   "id": "8000897c",
   "metadata": {
    "execution": {
     "iopub.execute_input": "2022-04-18T01:12:28.333110Z",
     "iopub.status.busy": "2022-04-18T01:12:28.332931Z",
     "iopub.status.idle": "2022-04-18T01:22:56.979028Z",
     "shell.execute_reply": "2022-04-18T01:22:56.978004Z"
    }
   },
   "outputs": [],
   "source": [
    "# These arrays are used as the times/phases where the models are\n",
    "# evaluated at higher resolution for plotting purposes \n",
    "t_rv = np.linspace(x_rv.min() - 5, x_rv.max() + 5, 3000)\n",
    "phase_lc = np.linspace(-0.3, 0.3, 500)\n",
    "\n",
    "for i in range(10):\n",
    "    with pm.Model() as model:\n",
    "        # Parameters for the stellar properties\n",
    "        BoundedNormal = pm.Bound(pm.Normal, lower=0, upper=3)\n",
    "        m_star = BoundedNormal(\"m_star\", mu=M_star[0], sd=M_star[1])\n",
    "        r_star = BoundedNormal(\"r_star\", mu=R_star[0], sd=R_star[1])\n",
    "\n",
    "        # Orbital parameters for the planets\n",
    "        t0 = pm.Normal(\"t0\", mu=bls_t0, sd=1)\n",
    "        log_period = pm.Normal(\"log_period\", mu=np.log(bls_period), sd=1)\n",
    "\n",
    "        # b = pmx.UnitUniform(\"b\")\n",
    "        log_ror = pm.Normal(\"log_ror\", mu=0.5*np.log(spoc_depth * 1e-3), sd=1)\n",
    "        ror = pm.Deterministic(\"ror\", tt.exp(log_ror))\n",
    "        r_pl = pm.Deterministic(\"r_pl\", ror * r_star)\n",
    "        b = xo.ImpactParameter('b', ror)\n",
    "\n",
    "        logK = pm.Normal(\"logK\", mu=np.log(K_est.item()), sd=2.0)\n",
    "        K = pm.Deterministic(\"K\", tt.exp(logK))\n",
    "        #m_pl = pm.Deterministic(\"m_pl\", tt.exp(log_m_pl))\n",
    "        period = pm.Deterministic(\"period\", tt.exp(log_period))\n",
    "\n",
    "        # comentar las proximas tres lineas para versión con e=0 fixed\n",
    "        ecs = pmx.UnitDisk(\"ecs\", testval=np.array([0.01, 0.01]))\n",
    "        ecc = pm.Deterministic(\"ecc\", tt.sum(ecs**2))\n",
    "        omega = pm.Deterministic(\"omega\", tt.arctan2(ecs[1], ecs[0]))\n",
    "\n",
    "        # RV jitter & a quadratic RV trend\n",
    "        log_sigma_rv = pm.Normal(\"log_sigma_rv\", mu=np.log(np.median(yerr_rv)), sd=1)\n",
    "        trend = pm.Normal(\"trend\", mu=0, sd=10.0 ** -np.arange(3)[::-1], shape=3)  # [2,1,0]\n",
    "\n",
    "        # Orbit model\n",
    "        orbit = xo.orbits.KeplerianOrbit(\n",
    "            r_star=r_star,\n",
    "            m_star=m_star,\n",
    "            period=period,\n",
    "            t0=t0,\n",
    "            b=b,\n",
    "            ecc=ecc,\n",
    "            omega=omega,\n",
    "        )\n",
    "\n",
    "        # Compute the mass and the density of the planet\n",
    "        m_pl = pm.Deterministic('m_pl', K*tt.sqrt(1-ecc**2)*(period*u.day.to(u.second)*(m_star*u.M_sun.to(u.kg))**2/(2*np.pi*constants.G))**(1/3))\n",
    "        density_pl = pm.Deterministic('density_pl', m_pl*u.kg.to(u.g)/(4/3*np.pi*(r_pl*u.R_sun.to(u.cm))**3))\n",
    "        \n",
    "        a = pm.Deterministic('a', ((period*u.day.to(u.second))**2*constants.G*(m_star*u.M_sun.to(u.kg)+m_pl)/(4*np.pi**2))**(1/3)*u.m.to(u.au))\n",
    "        teq = pm.Deterministic('teq', teff*(r_star*u.R_sun.to(u.au)/a)**(1/2)*(1/4)**(1/4))\n",
    "\n",
    "        # Loop over the instruments\n",
    "        parameters = dict()\n",
    "        lc_models = dict()\n",
    "        transit_obs = dict()\n",
    "        lc_pred = dict()\n",
    "        \n",
    "        # The light curve model\n",
    "        def lc_model(mean, star, r_pl, texp, t):\n",
    "            return tt.sum(1e3*star.get_light_curve(orbit=orbit, r=r_pl, t=t, texp=texp), axis=-1) + mean\n",
    "        \n",
    "        for n, (name, (x_, y_, yerr_, texp_)) in enumerate(datasets.items()):\n",
    "            # We define the per-instrument parameters in a submodel so that we\n",
    "            # don't have to prefix the names manually\n",
    "            \n",
    "            with pm.Model(name=name, model=model):\n",
    "                # The flux zero point\n",
    "                mean = pm.Normal(\"mean\", mu=0.0, sd=5.0)\n",
    "                # The limb darkening\n",
    "                # both tess datasets should share the same limb darkening coefficients\n",
    "                if \"tess_30min\" in name:\n",
    "                    star = xo.LimbDarkLightCurve(u_star)\n",
    "                else:\n",
    "                    u_star = xo.QuadLimbDark(\"u_star\")\n",
    "                    star = xo.LimbDarkLightCurve(u_star)\n",
    "\n",
    "                # Transit jitter\n",
    "                logs = pm.Normal(\"logs\", mu=np.log(np.median(yerr_)), sd=1)\n",
    "                \n",
    "                # Keep track of the parameters for optimization\n",
    "                parameters[name] = [mean, u_star, logs]\n",
    "\n",
    "            #lc_model = partial(lc_model, mean, star, ror, texp)\n",
    "            lc_models[name] = lc_model(mean, star, r_pl, texp_, x_)\n",
    "\n",
    "            # The likelihood for the light curve\n",
    "            err_lc = tt.sqrt(yerr_**2 + tt.exp(2*logs)) \n",
    "            transit_obs = pm.Normal(f\"{name}_obs\", mu=lc_models[name], sd=err_lc, observed=y_) \n",
    "\n",
    "            # Compute and save the phased light curve models\n",
    "            pm.Deterministic(f\"{name}_lc_pred\", tt.sum(star.get_light_curve(orbit=orbit, r=r_pl, t=t0+phase_lc, texp=texp_)*1e3, axis=-1))\n",
    "\n",
    "\n",
    "        # And a function for computing the full RV model\n",
    "        def get_rv_model(t, name=\"\"):\n",
    "            # First the RVs induced by the planet\n",
    "            vrad = orbit.get_radial_velocity(t, K=tt.exp(logK))\n",
    "            pm.Deterministic(\"vrad\" + name, vrad)\n",
    "\n",
    "            # Define the background model\n",
    "            A = np.vander(t - x_ref, 3) # Generate a Vandermonde matrix with t-x_ref as input vector\n",
    "            bkg = pm.Deterministic(\"bkg\" + name, tt.dot(A, trend))\n",
    "\n",
    "            # Sum planet and background to get the full model\n",
    "            return pm.Deterministic(\"rv_model\" + name, vrad + bkg)\n",
    "\n",
    "\n",
    "        # Define the model\n",
    "        rv_model = get_rv_model(x_rv)\n",
    "        get_rv_model(t_rv, name=\"_pred\")\n",
    "\n",
    "        # The likelihood for the RVs\n",
    "        err = tt.sqrt(yerr_rv**2 + tt.exp(2 * log_sigma_rv))\n",
    "        pm.Normal(\"obs\", mu=rv_model, sd=err, observed=y_rv)\n",
    "\n",
    "        # Optimize the model\n",
    "        map_soln = model.test_point\n",
    "        for name in datasets:\n",
    "            map_soln = pmx.optimize(map_soln, parameters[name])\n",
    "        for name in datasets:\n",
    "            map_soln = pmx.optimize(map_soln, parameters[name] + [logK, ecs, b, log_period]) # [logK, ecs, b, log_period]\n",
    "            map_soln = pmx.optimize(map_soln, parameters[name] + [log_sigma_rv, trend])\n",
    "        map_soln = pmx.optimize(map_soln)\n",
    "\n",
    "        extras = dict()\n",
    "        for name in datasets:\n",
    "            extras[name] = pmx.eval_in_model(lc_models[name], map_soln)\n",
    "\n",
    "        # Do some sigma clipping\n",
    "        num = dict((name, len(datasets[name][0])) for name in datasets)\n",
    "        clipped = dict()\n",
    "        masks = dict()\n",
    "        for name in datasets:\n",
    "            mdl = pmx.eval_in_model(lc_models[name], map_soln)\n",
    "            resid = datasets[name][1] - mdl\n",
    "            sigma = np.sqrt(np.median((resid - np.median(resid)) ** 2))\n",
    "            masks[name] = np.abs(resid - np.median(resid)) < 7 * sigma\n",
    "            clipped[name] = num[name] - masks[name].sum()\n",
    "            print(f\"Sigma clipped {clipped[name]} {name} light curve points\")\n",
    "\n",
    "        if all(c < 10 for c in clipped.values()):\n",
    "            break\n",
    "\n",
    "        else:\n",
    "            for name in datasets:\n",
    "                datasets[name][0] = datasets[name][0][masks[name]]\n",
    "                datasets[name][1] = datasets[name][1][masks[name]]\n",
    "                datasets[name][2] = datasets[name][2][masks[name]]"
   ]
  },
  {
   "cell_type": "code",
   "execution_count": null,
   "id": "19f87f2b",
   "metadata": {},
   "outputs": [],
   "source": [
    "model.free_RVs"
   ]
  },
  {
   "attachments": {},
   "cell_type": "markdown",
   "id": "d7d02ab9",
   "metadata": {},
   "source": [
    "MAP rv model"
   ]
  },
  {
   "cell_type": "code",
   "execution_count": null,
   "id": "b78425b5",
   "metadata": {
    "execution": {
     "iopub.execute_input": "2022-04-18T01:22:56.983584Z",
     "iopub.status.busy": "2022-04-18T01:22:56.983106Z",
     "iopub.status.idle": "2022-04-18T01:22:57.233408Z",
     "shell.execute_reply": "2022-04-18T01:22:57.232367Z"
    }
   },
   "outputs": [],
   "source": [
    "# We plot the initial model:\n",
    "def plot_rv_curve(soln):\n",
    "    fig, axes = plt.subplots(2, 1, figsize=(16, 8), sharex=True)\n",
    "    ax = axes[0]\n",
    "    ax.errorbar(x_rv, y_rv, yerr=yerr_rv, fmt=\".k\")\n",
    "    ax.plot(t_rv, soln['vrad_pred'], \"--k\", alpha=0.5)\n",
    "    ax.plot(t_rv, soln['bkg_pred'], \":k\", alpha=0.5)\n",
    "    ax.plot(t_rv, soln['rv_model_pred'], label=\"model\")\n",
    "    ax.legend(fontsize=10)\n",
    "    ax.set_xlabel(\"time [days]\")\n",
    "    ax.set_ylabel(\"radial velocity [m/s]\")\n",
    "    \n",
    "    ax = axes[1]\n",
    "    err = np.sqrt(yerr_rv**2 + np.exp(2 * soln[\"log_sigma_rv\"]))\n",
    "    ax.errorbar(x_rv, y_rv - soln[\"rv_model\"], yerr=err, fmt=\".k\")\n",
    "    ax.axhline(0, color=\"k\", lw=1)\n",
    "    ax.set_ylabel(\"residuals [m/s]\")\n",
    "    ax.set_xlim(t_rv.min(), t_rv.max())\n",
    "    #ax.set_xlim(2200,2300)\n",
    "    ax.set_xlabel(\"time [days]\")\n",
    "\n",
    "_ = plot_rv_curve(map_soln)"
   ]
  },
  {
   "attachments": {},
   "cell_type": "markdown",
   "id": "151426e4",
   "metadata": {},
   "source": [
    "MAP LCs models"
   ]
  },
  {
   "cell_type": "code",
   "execution_count": null,
   "id": "96e1ff5a",
   "metadata": {},
   "outputs": [],
   "source": [
    "fig, axes = plt.subplots(len(datasets), sharex=True, sharey=True, figsize=(8, 12))\n",
    "\n",
    "for n, name in enumerate(datasets):\n",
    "    ax = axes[n]\n",
    "\n",
    "    x, y = datasets[name][:2]\n",
    "\n",
    "    period = map_soln[\"period\"]\n",
    "    folded = (x - map_soln[\"t0\"] + 0.5 * period) % period - 0.5 * period\n",
    "    m = np.abs(folded) < 0.2\n",
    "    ax.plot(\n",
    "        folded[m],\n",
    "        (y  - map_soln[f\"{name}_mean\"])[m],\n",
    "        \".k\",\n",
    "        alpha=0.3,\n",
    "        mec=\"none\",\n",
    "    )\n",
    "    ax.plot(\n",
    "        phase_lc, map_soln[name+'_lc_pred'] , f\"C{n}\", label=name\n",
    "    )\n",
    "\n",
    "    ax.annotate(\n",
    "        name,\n",
    "        xy=(1, 0),\n",
    "        xycoords=\"axes fraction\",\n",
    "        va=\"bottom\",\n",
    "        ha=\"right\",\n",
    "        xytext=(-3, 3),\n",
    "        textcoords=\"offset points\",\n",
    "        fontsize=14,\n",
    "    )\n",
    "\n",
    "axes[-1].set_xlim(-0.15, 0.15)\n",
    "axes[-1].set_xlabel(\"time since transit [days]\")\n",
    "for ax in axes:\n",
    "    ax.set_ylabel(\"relative flux [ppt]\")\n",
    "\n",
    "#plt.savefig('lcs_fits.png', dpi=200, bbox_inches='tight')"
   ]
  },
  {
   "cell_type": "code",
   "execution_count": null,
   "id": "6ccb3043",
   "metadata": {},
   "outputs": [],
   "source": [
    "# pm.model_to_graphviz(model)"
   ]
  },
  {
   "cell_type": "code",
   "execution_count": null,
   "id": "c4d31b3c",
   "metadata": {},
   "outputs": [],
   "source": [
    "len(model.free_RVs)"
   ]
  },
  {
   "attachments": {},
   "cell_type": "markdown",
   "id": "c2f1a0a3",
   "metadata": {},
   "source": [
    "# Sampling"
   ]
  },
  {
   "cell_type": "code",
   "execution_count": null,
   "id": "d3e54906",
   "metadata": {
    "execution": {
     "iopub.execute_input": "2022-04-18T01:23:56.571377Z",
     "iopub.status.busy": "2022-04-18T01:23:56.570918Z",
     "iopub.status.idle": "2022-04-18T01:39:44.735486Z",
     "shell.execute_reply": "2022-04-18T01:39:44.734819Z"
    }
   },
   "outputs": [],
   "source": [
    "with model:\n",
    "    trace = pmx.sample(\n",
    "        tune=4000, #1500,\n",
    "        draws=4000, #1000,\n",
    "        start=map_soln,\n",
    "        cores=2, #4\n",
    "        chains=2,\n",
    "        target_accept=0.95,\n",
    "        return_inferencedata=True,\n",
    "        random_seed=[203771098, 203775000],\n",
    "        init=\"adapt_full\",\n",
    "   )"
   ]
  },
  {
   "cell_type": "code",
   "execution_count": null,
   "id": "ed8936b5",
   "metadata": {},
   "outputs": [],
   "source": [
    "import arviz as az\n",
    "# # version con e libre\n",
    "az.to_netcdf(trace, 'trace.toi1199_report.save')\n",
    "# trace = az.from_netcdf('trace.toi1199_final.save')\n",
    "\n",
    "# # version con e=0 fixed\n",
    "# # az.to_netcdf(trace, 'trace.toi1199_noecc.save')\n",
    "# # trace = az.from_netcdf('trace.toi1199_noecc.save')"
   ]
  },
  {
   "cell_type": "code",
   "execution_count": null,
   "id": "2c95be23",
   "metadata": {},
   "outputs": [],
   "source": [
    "#trace.posterior.data_vars\n",
    "# print only the names\n",
    "for n, var in enumerate(trace.posterior.data_vars):\n",
    "    if n>15:\n",
    "        print(n, var)\n"
   ]
  },
  {
   "attachments": {},
   "cell_type": "markdown",
   "id": "7da121a1",
   "metadata": {},
   "source": [
    "Summary stats"
   ]
  },
  {
   "cell_type": "code",
   "execution_count": null,
   "id": "96a47b1e",
   "metadata": {},
   "outputs": [],
   "source": [
    "summary = az.summary(trace, stat_funcs={'median': np.median, 'std':np.std}, hdi_prob=0.997, round_to=6,\n",
    "           var_names=[\n",
    "               't0',\n",
    "               'logK',\n",
    "               'log_period',\n",
    "               'log_ror',\n",
    "               'log_sigma_rv',\n",
    "               'trend',\n",
    "               'tess_2min_mean',\n",
    "               'tess_2min_logs',\n",
    "               'tess_30min_mean',\n",
    "               'tess_30min_logs',\n",
    "               'keplercam_B_mean',\n",
    "               'keplercam_B_logs',\n",
    "               'keplercam_z_mean',\n",
    "               'keplercam_z_logs',\n",
    "               'm_star',\n",
    "               'r_star',\n",
    "               'ror',\n",
    "               'r_pl',\n",
    "               'm_pl',\n",
    "               'density_pl',\n",
    "               'a',\n",
    "               'teq',\n",
    "               'b',\n",
    "               'K',\n",
    "               'period',\n",
    "               'ecs',\n",
    "               'ecc',\n",
    "               'omega',\n",
    "               'tess_2min_u_star',\n",
    "               'keplercam_B_u_star',\n",
    "               'keplercam_z_u_star',\n",
    "           ])"
   ]
  },
  {
   "cell_type": "code",
   "execution_count": null,
   "id": "fffe0a5e",
   "metadata": {},
   "outputs": [],
   "source": [
    "print(summary.ess_bulk.mean())\n",
    "print(summary.ess_tail.mean())"
   ]
  },
  {
   "cell_type": "code",
   "execution_count": null,
   "id": "36ab9e43",
   "metadata": {},
   "outputs": [],
   "source": [
    "summary"
   ]
  },
  {
   "cell_type": "code",
   "execution_count": null,
   "id": "593aa952",
   "metadata": {},
   "outputs": [],
   "source": [
    "#plot limb darkening coefficient vs radius\n",
    "plt.plot(trace.posterior[\"tess_2min_u_star\"].stack(sample=(\"chain\", \"draw\"))[0],\n",
    "        trace.posterior[\"r_pl\"].stack(draws=(\"chain\", \"draw\")),'.',alpha=0.15, label=\"q$_1$ vs R$_P$\")\n",
    "plt.plot(trace.posterior[\"tess_2min_u_star\"].stack(sample=(\"chain\", \"draw\"))[1],\n",
    "        trace.posterior[\"r_pl\"].stack(draws=(\"chain\", \"draw\")),'.k',alpha=0.15, label=\"q$_2$ vs R$_P$\")\n",
    "plt.legend(loc='best', fontsize=11)\n",
    "plt.xlabel(\"LD coefficient\")\n",
    "plt.ylabel(\"R$_P$ (R$_J$)\")\n",
    "plt.title(\"TOI 1199\", fontsize=13)\n",
    "plt.savefig(\"toi1199_ld_vs_rp.png\", dpi=300, bbox_inches='tight')"
   ]
  },
  {
   "cell_type": "code",
   "execution_count": null,
   "id": "d88a285e",
   "metadata": {},
   "outputs": [],
   "source": [
    "az.plot_posterior(trace, var_names=['r_pl', 'b', 'm_pl', 'density_pl', 'ecc'])\n",
    "#plt.savefig('toi1199_ustar_posteriors.png', dpi=300, bbox_inches='tight')"
   ]
  },
  {
   "cell_type": "code",
   "execution_count": null,
   "id": "a2f171ef",
   "metadata": {},
   "outputs": [],
   "source": [
    "az.plot_posterior(trace, var_names=['ecc'], hdi_prob=0.997)\n",
    "plt.xlim(0, 1)\n",
    "plt.show()"
   ]
  },
  {
   "attachments": {},
   "cell_type": "markdown",
   "id": "f707e02c",
   "metadata": {},
   "source": [
    "Parámetros"
   ]
  },
  {
   "cell_type": "code",
   "execution_count": null,
   "id": "b73f09c4",
   "metadata": {},
   "outputs": [],
   "source": [
    "import math\n",
    "from uncertainties import ufloat\n",
    "from uncertainties.umath import *\n",
    "\n",
    "radio = ufloat((trace.posterior[\"r_pl\"].median().item()*u.R_sun).to(u.R_jup).value, (trace.posterior[\"r_pl\"].std().item()*u.R_sun).to(u.R_jup).value)\n",
    "masa = ufloat((trace.posterior[\"m_pl\"].median().item()*u.kg).to(u.M_jup).value, (trace.posterior[\"m_pl\"].std().item()*u.kg).to(u.M_jup).value)\n",
    "densidad = ufloat(trace.posterior['density_pl'].median().item(), trace.posterior['density_pl'].std().item())\n",
    "b = ufloat(trace.posterior[\"b\"].median().item(), trace.posterior[\"b\"].std().item())\n",
    "K = ufloat(trace.posterior[\"K\"].median().item(), trace.posterior[\"K\"].std().item())\n",
    "eccen = ufloat(trace.posterior[\"ecc\"].median().item(), trace.posterior[\"ecc\"].std().item())\n",
    "omega = ufloat(trace.posterior[\"omega\"].median().item(), trace.posterior[\"omega\"].std().item())\n",
    "periodo = ufloat(trace.posterior['period'].median().item(),trace.posterior['period'].std().item())\n",
    "t_0 = ufloat(trace.posterior['t0'].median().item()+ref_time, trace.posterior['t0'].std().item())\n",
    "mstar = ufloat(trace.posterior['m_star'].median().item()*u.M_sun.to(u.kg), trace.posterior['m_star'].std().item()*u.M_sun.to(u.kg))\n",
    "rstar = ufloat(trace.posterior['r_star'].median().item()*u.R_sun.to(u.au), trace.posterior['r_star'].std().item()*u.R_sun.to(u.au))\n",
    "smaxis = ufloat(trace.posterior['a'].median().item(), trace.posterior['a'].std().item())\n",
    "tequilibrium = ufloat(trace.posterior['teq'].median().item(), trace.posterior['teq'].std().item())\n",
    "\n",
    "print(\"Rp = {r:.3f} Rj\".format(r=radio))\n",
    "print(\"Mp = {m:.3f} Mj\".format(m=masa))\n",
    "print(\"Density = {d:.3f} g/cm^3\".format(d=densidad))\n",
    "print(\"b = {b:.3f}\".format(b=b))\n",
    "print(\"e = {e:.6f}\".format(e=eccen))\n",
    "print(\"omega = {w:.6f}\".format(w=omega))\n",
    "print(\"P = {p:.6f} days\".format(p=periodo))\n",
    "print(\"Epoca = {e:.5f}\".format(e=t_0))\n",
    "print('K = {k:.3f} m/s'.format(k=K))\n",
    "print('a = {a:.4f} AU'.format(a=smaxis))\n",
    "print('Teq = {t:.3f} K'.format(t=tequilibrium))"
   ]
  },
  {
   "cell_type": "code",
   "execution_count": null,
   "metadata": {},
   "outputs": [],
   "source": [
    "# estimate the expected jitter value from log_rhk according to Santos et al 2000\n",
    "# this is the relation for G dwarfs\n",
    "def sjitter(log_rhk):\n",
    "    rhk = 10**(log_rhk)\n",
    "    r5 = 10**5 * rhk\n",
    "    s_jitter = r5**(0.55) * 7.9\n",
    "    return s_jitter\n",
    "\n",
    "print(sjitter(ufloat(-5.0, 0.2)))"
   ]
  },
  {
   "cell_type": "code",
   "execution_count": null,
   "id": "1a2ca428",
   "metadata": {},
   "outputs": [],
   "source": [
    "0.018/0.233*100"
   ]
  },
  {
   "cell_type": "code",
   "execution_count": null,
   "id": "72a13aaf",
   "metadata": {},
   "outputs": [],
   "source": [
    "# in the same plot show two histograms of radio_posterior and mpl_posterior\n",
    "fig, ax = plt.subplots(3, figsize=(8, 9))\n",
    "fig.subplots_adjust(hspace=0.29)\n",
    "#ax[0].set_title('TOI-1199 b', fontsize=14)\n",
    "ax[0].hist(trace.posterior['r_pl'].stack(sample=(\"chain\", \"draw\")).to_numpy()*u.R_sun.to(u.R_jup), \n",
    "            bins=50, density=True, histtype='step', color='k', label='R$_\\mathrm{P}$ posterior')\n",
    "ax[0].hist(trace.posterior['r_pl'].stack(sample=(\"chain\", \"draw\")).to_numpy()*u.R_sun.to(u.R_jup), \n",
    "            bins=50, density=True, histtype='stepfilled', color='k', alpha=0.1)\n",
    "ax[1].hist(trace.posterior['m_pl'].stack(sample=(\"chain\", \"draw\")).to_numpy()*u.kg.to(u.M_jup), \n",
    "            bins=50, density=True,histtype='step', color='k', label='M$_\\mathrm{P}$ posterior')\n",
    "ax[1].hist(trace.posterior['m_pl'].stack(sample=(\"chain\", \"draw\")).to_numpy()*u.kg.to(u.M_jup), \n",
    "            bins=50, density=True,histtype='stepfilled', color='k', alpha=0.1)\n",
    "ax[2].hist(trace.posterior['density_pl'].stack(sample=(\"chain\", \"draw\")).to_numpy(), \n",
    "            bins=50, density=True, histtype='step', color='k')\n",
    "ax[2].hist(trace.posterior['density_pl'].stack(sample=(\"chain\", \"draw\")).to_numpy(), \n",
    "            bins=50, density=True, histtype='stepfilled', color='k', alpha=0.1, zorder=10)\n",
    "#ax[0].legend(markerscale=0.,frameon=False, prop=dict(family='serif', size=10))\n",
    "#ax[1].legend(frameon=False, prop=dict(family='serif', size=10))\n",
    "#ax[2].legend(frameon=False, prop=dict(family='serif', size=10))\n",
    "\n",
    "ax[0].set_xlabel('R (R$_\\mathrm{J}$)', fontsize=12, labelpad=0.5)\n",
    "ax[1].set_xlabel('Mp (M$_\\mathrm{J}$)', fontsize=12, labelpad=0.5)\n",
    "ax[2].set_xlabel('Density ($\\mathrm{g}\\,\\mathrm{cm}^{-3}$)', fontsize=12, labelpad=0.5)\n",
    "\n",
    "for i in range(3):\n",
    "    ax[i].set_ylabel('Relative frequency', fontsize=12)\n",
    "# add the median and 1-sigma error bars at the top left\n",
    "ax[0].errorbar(np.median(trace.posterior['r_pl'].stack(sample=(\"chain\", \"draw\")).to_numpy()*u.R_sun.to(u.R_jup)), 1, \n",
    "                xerr=np.std(trace.posterior['r_pl'].stack(sample=(\"chain\", \"draw\")).to_numpy()*u.R_sun.to(u.R_jup)), \n",
    "                color='k', capsize=5, capthick=1.5)\n",
    "ax[1].errorbar(np.median(trace.posterior['m_pl'].stack(sample=(\"chain\", \"draw\")).to_numpy()*u.kg.to(u.M_jup)), 2, \n",
    "                xerr=np.std(trace.posterior['m_pl'].stack(sample=(\"chain\", \"draw\")).to_numpy()*u.kg.to(u.M_jup)), \n",
    "                color='k', capsize=5, capthick=1.5)\n",
    "ax[2].errorbar(np.median(trace.posterior['density_pl'].stack(sample=(\"chain\", \"draw\")).to_numpy()), 0.8, \n",
    "                xerr=np.std(trace.posterior['density_pl'].stack(sample=(\"chain\", \"draw\")).to_numpy()), \n",
    "                color='k', capsize=5, capthick=1.5)\n",
    "# show the numbers in the plot\n",
    "ax[0].text(0.41, 0.13, '{:.2f} $\\pm$ {:.2f}'.format(np.median(trace.posterior['r_pl'].stack(sample=(\"chain\", \"draw\")).to_numpy()*u.R_sun.to(u.R_jup)), \n",
    "            np.std(trace.posterior['r_pl'].stack(sample=(\"chain\", \"draw\")).to_numpy()*u.R_sun.to(u.R_jup))), transform=ax[0].transAxes,\n",
    "            fontsize=9, weight='regular', fontfamily='serif')\n",
    "ax[1].text(0.43, 0.13, '{:.2f} $\\pm$ {:.2f}'.format(np.median(trace.posterior['m_pl'].stack(sample=(\"chain\", \"draw\")).to_numpy()*u.kg.to(u.M_jup)), \n",
    "            np.std(trace.posterior['m_pl'].stack(sample=(\"chain\", \"draw\")).to_numpy()*u.kg.to(u.M_jup))), transform=ax[1].transAxes,\n",
    "            fontsize=9, weight='regular', fontfamily='serif')\n",
    "ax[2].text(0.325, 0.14, '{:.2f} $\\pm$ {:.2f}'.format(np.median(trace.posterior['density_pl'].stack(sample=(\"chain\", \"draw\")).to_numpy()), \n",
    "            np.std(trace.posterior['density_pl'].stack(sample=(\"chain\", \"draw\")).to_numpy())), transform=ax[2].transAxes, \n",
    "            fontsize=9, weight='regular', fontfamily='serif')\n",
    "for i in range(3):\n",
    "    ax[i].tick_params(axis='y', which='both', left=False, right=False, direction='inout', labelsize=12)\n",
    "    ax[i].tick_params(axis='x', which='both', bottom=True, top=False, direction='inout', labelsize=12)\n",
    "    ax[i].set_yticks([])\n",
    "ax[2].set_xticks(np.arange(0.1, 0.95, 0.1))\n",
    "ax[2].set_xlim(0, 0.9)\n",
    "#plt.savefig('posterior_density_1199.png', dpi=300, bbox_inches='tight', facecolor='w')\n",
    "plt.show()"
   ]
  },
  {
   "cell_type": "code",
   "execution_count": null,
   "id": "42f92746",
   "metadata": {},
   "outputs": [],
   "source": [
    "logsigma_rv_mean = trace.posterior[\"log_sigma_rv\"].median().item()\n",
    "logsigma_rv = ufloat(logsigma_rv_mean, trace.posterior[\"log_sigma_rv\"].std().item())\n",
    "rv_jitter_ = np.e**logsigma_rv\n",
    "tess_2min_jitter_median = trace.posterior['tess_2min_logs'].median().item()\n",
    "tess_2min_jitter = ufloat(tess_2min_jitter_median, trace.posterior['tess_2min_logs'].std().item())\n",
    "tess_2min_jitter_val = np.e**tess_2min_jitter\n",
    "tess_30min_jitter_median = trace.posterior['tess_30min_logs'].median().item()\n",
    "tess_30min_jitter = ufloat(tess_30min_jitter_median, trace.posterior['tess_30min_logs'].std().item())\n",
    "tess_30min_jitter_val = np.e**tess_30min_jitter\n",
    "keplercam_B_jitter_median = trace.posterior['keplercam_B_logs'].median().item()\n",
    "keplercam_B_jitter = ufloat(keplercam_B_jitter_median, trace.posterior['keplercam_B_logs'].std().item())\n",
    "keplercam_B_jitter_val = np.e**keplercam_B_jitter\n",
    "keplercam_z_jitter_median = trace.posterior['keplercam_z_logs'].median().item()\n",
    "keplercam_z_jitter = ufloat(keplercam_z_jitter_median, trace.posterior['keplercam_z_logs'].std().item())\n",
    "keplercam_z_jitter_val = np.e**keplercam_z_jitter\n",
    "print(\"RV jitter = \", rv_jitter_)\n",
    "print(\"TESS 2min jitter = \", tess_2min_jitter_val)\n",
    "print(\"TESS 30min jitter = \", tess_30min_jitter_val)\n",
    "print(\"Keplercam B jitter = \", keplercam_B_jitter_val)\n",
    "print(\"Keplercam z jitter = \", keplercam_z_jitter_val)\n"
   ]
  },
  {
   "cell_type": "code",
   "execution_count": null,
   "id": "fd6d472f",
   "metadata": {},
   "outputs": [],
   "source": [
    "# resultados sin los sectores de 30 min\n",
    "# Rp = 0.945+/-0.034 Rj\n",
    "# b = 0.856+/-0.013\n",
    "# e = 0.027714+/-0.026523\n",
    "# omega = 0.841376+/-1.796590\n",
    "# P = 3.671472+/-0.000012 days\n",
    "# Epoca = 2420.53748+/-0.00046\n",
    "# a = 0.0492+/-0.0003 au\n",
    "# Teq = 1495.749+/-28.132 K\n",
    "# m_pl = 0.233+/-0.018 Mj\n",
    "# K = 27.517+/-2.090 m/s\n",
    "# densidad = 0.342+/-0.045 g/cm^3"
   ]
  },
  {
   "cell_type": "code",
   "execution_count": null,
   "id": "fd33b4c3",
   "metadata": {},
   "outputs": [],
   "source": [
    "from arviz.utils import Numba\n",
    "Numba.disable_numba()\n",
    "Numba.numba_flag\n",
    "\n",
    "_ = az.plot_trace(trace, var_names=['r_pl', 'm_pl','density_pl', 'b'] \n",
    "                                    , compact=False, figsize=(12,20)) \n",
    "\n",
    "#plt.savefig('trace_1199.png', dpi=300, bbox_inches='tight')"
   ]
  },
  {
   "cell_type": "code",
   "execution_count": null,
   "id": "1af79530",
   "metadata": {},
   "outputs": [],
   "source": [
    "trace3 = trace.copy()\n",
    "trace3.posterior['r_pl'] = trace3.posterior['r_pl']*u.R_sun.to(u.R_jup)\n",
    "trace3.posterior['m_pl'] = trace3.posterior['m_pl']*u.kg.to(u.M_jup)\n",
    "trace3.posterior['t0'] = trace3.posterior['t0']+2457000+ref_time"
   ]
  },
  {
   "attachments": {},
   "cell_type": "markdown",
   "id": "204121cb",
   "metadata": {},
   "source": [
    "## Cornerplot"
   ]
  },
  {
   "cell_type": "code",
   "execution_count": null,
   "id": "55dd23db",
   "metadata": {},
   "outputs": [],
   "source": [
    "CORNER_KWARGS = dict(\n",
    "    smooth=0.5,\n",
    "    plot_density=True,\n",
    "    plot_datapoints=True,\n",
    "    fill_contours=False,\n",
    "    #levels=(1 - np.exp(-0.5), 1 - np.exp(-2), 1 - np.exp(-9 / 2.)),\n",
    "    levels=(0.16,0.5,0.84),\n",
    "    max_n_ticks=3\n",
    ")"
   ]
  },
  {
   "cell_type": "code",
   "execution_count": null,
   "id": "ad4cba3c",
   "metadata": {
    "execution": {
     "iopub.execute_input": "2022-04-18T01:39:44.864236Z",
     "iopub.status.busy": "2022-04-18T01:39:44.863638Z",
     "iopub.status.idle": "2022-04-18T01:39:46.595039Z",
     "shell.execute_reply": "2022-04-18T01:39:46.594396Z"
    }
   },
   "outputs": [],
   "source": [
    "from cProfile import label\n",
    "import corner\n",
    "from matplotlib.ticker import ScalarFormatter\n",
    "formatter = ScalarFormatter()\n",
    "\n",
    "figure = corner.corner(trace3, var_names=['period', 'K', 'm_pl', 'r_pl', 'b', 'ecc', 'omega', 'm_star', 'r_star'],\n",
    "                        labels=[\"P (d)\", \"K (m s$^{-1}$)\", \"M$_P$ (M$_J$)\", \"R$_P$ (R$_J$)\", \"b\", \"e\", \"$\\omega~$(rad)\",\"M$_\\star$ (M$_\\odot$)\",\"R$_\\star$ (R$_\\odot$)\"], label_kwargs={'fontsize':20},\n",
    "                        show_titles=False, title_kwargs={'fontsize':20, 'pad':9.0}, titles=['P', 'K', 'M\\_P','R\\_P','b','e','$\\omega$','M\\_$\\star$','R\\_$\\star$'], divergences=False, plot_contours=True,\n",
    "                        labelpad=0.2, color='k', **CORNER_KWARGS)\n",
    "for i,ax in enumerate(figure.get_axes()):\n",
    "    ax.tick_params(axis='both', pad=1, direction='in', labelbottom=True, labelleft=True, left=True, bottom=True)\n",
    "    #ax.ticklabel_format(axis='both', style='plain', scilimits=None, useOffset=None, useLocale=None, useMathText=None)\n",
    "    if i == 71 or i == 72 or i == 73:\n",
    "        ax.xaxis.set_major_formatter(formatter)\n",
    "\n",
    "#plt.savefig('corner_1199_paper.png', dpi=400, bbox_inches='tight', facecolor='w')\n",
    "plt.show()"
   ]
  },
  {
   "attachments": {},
   "cell_type": "markdown",
   "id": "02b667de",
   "metadata": {},
   "source": [
    "## LC Phase plot"
   ]
  },
  {
   "cell_type": "code",
   "execution_count": null,
   "id": "e39295d1",
   "metadata": {},
   "outputs": [],
   "source": [
    "colormap1 = ['#FFEE58', '#FFEE58', '#5C6BC0', '#4FC3F7', '#FFB74D', '#FF8A65', '#F44336', '#A1887F']"
   ]
  },
  {
   "cell_type": "code",
   "execution_count": null,
   "id": "423f73d5",
   "metadata": {},
   "outputs": [],
   "source": [
    "flat_samps = trace.posterior.stack(sample=(\"chain\", \"draw\"))\n",
    "\n",
    "# Get the posterior median orbital parameters\n",
    "p_ = np.median(flat_samps[\"period\"])\n",
    "p_err = np.std(flat_samps[\"period\"])\n",
    "t0_ = np.median(flat_samps[\"t0\"])\n",
    "t0_err = np.std(flat_samps[\"t0\"])\n",
    "tess_2min_mean = np.median(flat_samps[\"tess_2min_mean\"])\n",
    "tess_30min_mean = np.median(flat_samps[\"tess_30min_mean\"])\n",
    "keplercam_B_mean = np.median(flat_samps[\"keplercam_B_mean\"])\n",
    "keplercam_z_mean = np.median(flat_samps[\"keplercam_z_mean\"])"
   ]
  },
  {
   "cell_type": "code",
   "execution_count": null,
   "id": "9a817e8b",
   "metadata": {},
   "outputs": [],
   "source": [
    "fig, axes = plt.subplots(len(datasets), sharex=True, sharey=True, figsize=(6, 10))\n",
    "plt.subplots_adjust(hspace=0.0)\n",
    "# add a big axis, hide frame\n",
    "fig.add_subplot(111, frameon=False)\n",
    "# hide tick and tick label of the big axis\n",
    "plt.tick_params(labelcolor='none', which='both', top=False, bottom=False, left=False, right=False)\n",
    "plt.xlabel(\"Time since transit [h]\")\n",
    "plt.ylabel(u'$\\Delta Flux$ [‰]')\n",
    "for n, name in enumerate(datasets):\n",
    "    ax = axes[n]\n",
    "    # plot the folded transits\n",
    "    x, y, yerr = datasets[name][:3]\n",
    "    folded = (x - t0_ + 0.5 * p_) % p_ - 0.5 * p_\n",
    "    mean = np.median(flat_samps[f\"{name}_mean\"])\n",
    "    print(mean)\n",
    "    ax.plot(folded*24, (y  - mean), marker='o', ls='none', color=colormap1[n], \n",
    "            mec=colormap1[n], mew=1, alpha=1, label=f\"{name}\", ms=5, zorder=8)\n",
    "    ax.errorbar(folded*24, (y  - mean), yerr=yerr, fmt='o', color=colormap1[n],\n",
    "                alpha=0.8, ms=5, zorder=8, elinewidth=0.5, capsize=0)\n",
    "    # Overplot the phase binned light curve \n",
    "    lcc = lk.LightCurve(time=folded, flux=y - mean, flux_err=yerr)\n",
    "    lcc_binned = lcc.bin(time_bin_size=0.01)\n",
    "    ax.scatter(lcc_binned['time'].value*24, lcc_binned['flux'].value, marker='o', s=30,  edgecolors='w', linewidths=0.5, c='k', alpha=0.9, zorder=12)\n",
    "    # overplot the model\n",
    "    pred = np.percentile(flat_samps[f\"{name}_lc_pred\"], [16, 50, 84], axis=-1)\n",
    "    #ax.plot(phase_lc*24, pred[1], color=\"k\", linewidth=1, alpha=1, zorder=11) #f\"C{n+1}\"\n",
    "    art = ax.fill_between(phase_lc*24, pred[0], pred[2], color=\"w\", alpha=1, zorder=10)\n",
    "    art.set_edgecolor(\"k\")\n",
    "    ax.legend(fontsize=11, loc=3, frameon=False, handlelength=0, handletextpad=0, borderpad=0.5, markerscale=0)\n",
    "    ax.tick_params(axis='y', which='major', size=4, left=True, right=True, direction='in', labelsize=13)\n",
    "    ax.tick_params(axis='y', which='minor', size=2, left=True, right=True, direction='in', labelsize=13)\n",
    "    ax.tick_params(axis='x', which='major', size=4, bottom=False, top=False, direction='in', labelsize=13)\n",
    "    if n==5:\n",
    "        ax.tick_params(axis='x', which='major', size=2, bottom=True, top=False, direction='in', labelsize=13)\n",
    "\n",
    "axes[-1].set_xlim(-0.08*24, 0.08*24)\n",
    "axes[-1].set_ylim(-10, 5)\n",
    "\n",
    "#plt.savefig('1199_lcsfit.png', dpi=300, bbox_inches='tight')\n",
    "plt.show()"
   ]
  },
  {
   "attachments": {},
   "cell_type": "markdown",
   "id": "e578c727",
   "metadata": {},
   "source": [
    "## RV Phase plot"
   ]
  },
  {
   "cell_type": "code",
   "execution_count": null,
   "id": "45f8cf88",
   "metadata": {},
   "outputs": [],
   "source": [
    "rv_jitter = np.exp(np.median(flat_samps['log_sigma_rv']))\n",
    "bkg_ = np.median(flat_samps['bkg'].values, axis=-1)\n",
    "rv_model_ = np.median(flat_samps['rv_model'].values, axis=-1)\n",
    "\n",
    "# Plot the folded data\n",
    "fig, (ax1, ax2) = plt.subplots(2, 1, figsize=(10, 6), sharex=True, gridspec_kw={'height_ratios': [3,1]})\n",
    "fig.subplots_adjust(hspace=0.0)\n",
    "x_fold = (x_rv - t0_ + 0.5 * p_) % p_ - 0.5 * p_\n",
    "ax1.errorbar(x_fold/p_, y_rv - bkg_, yerr=np.sqrt(yerr_rv**2+rv_jitter**2), fmt=\"o\", color='k', \n",
    "            markeredgecolor='k', ecolor='k', elinewidth=1, label='SOPHIE RV\\'s', alpha=1) #color='#FBC15E'\n",
    "\n",
    "# Compute the posterior prediction for the folded RV model \n",
    "t_fold = (t_rv - t0_ + 0.5 * p_) % p_ - 0.5 * p_\n",
    "inds = np.argsort(t_fold)\n",
    "pred = np.percentile(trace.posterior[\"vrad_pred\"].values[:, :, inds],[16, 50, 84], axis=(0, 1))\n",
    "ax1.plot(t_fold[inds]/p_, pred[1], color=\"#FF7F00\", label=\"Model\")\n",
    "art = ax1.fill_between(t_fold[inds]/p_, pred[0], pred[2], color=\"#FF7F00\", alpha=0.5) #color=\"#988ED5\"\n",
    "art.set_edgecolor(\"none\")\n",
    "\n",
    "ax1.set_xlim(-0.51, 0.51)\n",
    "ax1.set_ylim(-58, 70)\n",
    "ax1.set_ylabel(\"Radial velocity (m s$^{-1}$)\", labelpad=1, fontsize=12)\n",
    "handles, labels = ax1.get_legend_handles_labels()\n",
    "ax1.legend(handles[::-1], labels[::-1], fontsize=12, loc='best')\n",
    "ax1.tick_params(axis='both', which='both', left=True, bottom=True, top=True, right=True, direction='in', labelsize=12)\n",
    "\n",
    "# Plot the folded residuals\n",
    "ax2.axhline(y=0, ls='--', color='k', linewidth=1, alpha=0.5)\n",
    "ax2.errorbar(x_fold/p_, y_rv-rv_model_, yerr=np.sqrt(yerr_rv**2+rv_jitter**2), fmt=\"o\", color='k',\n",
    "            markeredgecolor='k', ecolor='k', elinewidth=1, alpha=1, label='residuals')\n",
    "ax2.set_ylabel('Residuals (m s$^{-1}$)', labelpad=1, fontsize=12)\n",
    "ax2.set_xlabel(\"Phase\", labelpad=1, fontsize=12)\n",
    "ax2.tick_params(axis='both', which='both', left=True, bottom=True, top=True, right=True, direction='in', labelsize=12)\n",
    "ax2.set_xlim(-0.51, 0.51)\n",
    "ax2.set_ylim(-42, 45)\n",
    "ax2.set_xticks([-0.5, 0, 0.5])\n",
    "ax2.set_yticks([-30, 0, 30])\n",
    "#plt.savefig('1199_rvs_fit.png', dpi=300, bbox_inches='tight', facecolor='white')\n",
    "plt.show()"
   ]
  },
  {
   "attachments": {},
   "cell_type": "markdown",
   "id": "aa1757bc",
   "metadata": {},
   "source": [
    "### Periodograms with residues"
   ]
  },
  {
   "cell_type": "code",
   "execution_count": null,
   "id": "1bd55129",
   "metadata": {},
   "outputs": [],
   "source": [
    "ls_res = LombScargle(data.bjd, y_rv-rv_model_)\n",
    "frequency_res, power_res = ls_res.autopower(minimum_frequency=0.001, maximum_frequency=2, samples_per_peak=5)\n",
    "faps_res = ls_res.false_alarm_level(probabilities)  "
   ]
  },
  {
   "cell_type": "code",
   "execution_count": null,
   "id": "09ce4c06",
   "metadata": {},
   "outputs": [],
   "source": [
    "from matplotlib.ticker import ScalarFormatter\n",
    "# plot two figures in a column\n",
    "fig, axes = plt.subplots(4, 1, sharex=True, sharey=True, figsize=(7, 6))\n",
    "plt.subplots_adjust(left=None, bottom=None, right=None, top=None, wspace=None, hspace=0)\n",
    "axes[0].plot(1/frequency, power, color='k', lw=1, zorder=10) \n",
    "axes[1].plot(1/frequency_res, power_res, color='k', lw=1, zorder=10)\n",
    "axes[2].plot(1/frequency_bis, power_bis, color='k', lw=1, zorder=10) \n",
    "#axes[3].plot(1/frequency_window, power_window,  color='k', lw=0.8, zorder=10)\n",
    "axes[3].plot(prange, wf, color='r', lw=1, zorder=10)\n",
    "\n",
    "# plot the 'bls_period' as a vertical line behind the plot and show in legend\n",
    "axes[0].axvline(p_, ls='-', lw=1.5, alpha=0.7, color='deepskyblue', label='Transit period', zorder=-10)\n",
    "axes[1].axvline(p_, ls='-', lw=1.5, alpha=0.7, color='deepskyblue', label='', zorder=-10)\n",
    "axes[2].axvline(p_, ls='-', lw=1.5, alpha=0.7, color='deepskyblue', label='', zorder=-10)\n",
    "axes[3].axvline(p_, ls='-', lw=1.5, alpha=0.7, color='deepskyblue', label='', zorder=-10)\n",
    "# add the aliases as red dashed vertical lines\n",
    "for i in range(4):\n",
    "    if i==0:\n",
    "        axes[i].axvline(aliases[0], lw=1.5, alpha=0.7, ls='dotted', color='deepskyblue', label='1d aliases')\n",
    "        axes[i].axvline(aliases[2], lw=1.5, alpha=0.7, ls='dotted', color='deepskyblue')\n",
    "    else:\n",
    "        axes[i].axvline(aliases[0], lw=1.5, alpha=0.7, ls='dotted', color='deepskyblue', label='')\n",
    "        axes[i].axvline(aliases[2], lw=1.5, alpha=0.7, ls='dotted', color='deepskyblue')\n",
    "\n",
    "# overplot the false alarm probabilities\n",
    "names2 = [faps, faps_res, faps_bis]\n",
    "for i, names in enumerate(names2):\n",
    "    # axes[i].axhline(names[0], ls='--', lw=1, alpha=0.8, color='lightgray', label='10% FAP', zorder=-20)\n",
    "    # axes[i].axhline(names[1], ls='--', lw=1, alpha=0.8, color='darkgray', label='5% FAP', zorder=-20)\n",
    "    if i==0:\n",
    "        axes[i].axhline(names[2], ls='dashed', lw=1, alpha=0.8, color='dimgray', label='1% FAP', zorder=-20)\n",
    "    else:\n",
    "        axes[i].axhline(names[2], ls='dashed', lw=1, alpha=0.8, color='dimgray', label='', zorder=-20)\n",
    "\n",
    "axes[0].set_xlim(0.6, 1000)\n",
    "axes[0].set_ylim(0, 1.1)\n",
    "axes[0].set_xscale('log')\n",
    "axes[1].set_xscale('log')\n",
    "axes[2].set_xscale('log')\n",
    "axes[3].set_xscale('log')\n",
    "\n",
    "axes[0].legend(loc='upper right', title='RVs', frameon=False, borderaxespad=0, prop=dict(family='serif', weight='normal', size=9), title_fontsize=12)\n",
    "axes[1].legend(loc='upper right', title='Residuals', frameon=False, borderaxespad=0, prop=dict(family='serif', weight='normal', size=9), title_fontsize=12)\n",
    "axes[2].legend(loc='upper right', title='BIS', frameon=False, borderaxespad=0, prop=dict(family='serif', weight='normal', size=9), title_fontsize=12)\n",
    "axes[3].legend(loc='upper right', title='Window function', frameon=False, borderaxespad=0, prop=dict(family='serif', weight='normal', size=9), title_fontsize=12)\n",
    "axes[0].tick_params(axis='both', which='major', size=4, top=True, right=True, direction='inout', labelsize=13)\n",
    "axes[1].tick_params(axis='both', which='major', size=4, top=True, right=True, direction='inout', labelsize=13)\n",
    "axes[2].tick_params(axis='both', which='major', size=4, top=True, right=True, direction='inout', labelsize=13)\n",
    "axes[3].tick_params(axis='both', which='major', size=4, top=True, right=True, direction='inout', labelsize=13)\n",
    "axes[0].tick_params(axis='both', which='minor', size=2, top=True, right=True, direction='inout', labelsize=13)\n",
    "axes[1].tick_params(axis='both', which='minor', size=2, top=True, right=True, direction='inout', labelsize=13)\n",
    "axes[2].tick_params(axis='both', which='minor', size=2, top=True, right=True, direction='inout', labelsize=13)\n",
    "axes[3].tick_params(axis='both', which='minor', size=2, top=True, right=True, direction='inout', labelsize=13)\n",
    "axes[0].set_yticks([0.2, 0.6, 1.0])\n",
    "# add a big axis, hide frame\n",
    "fig.add_subplot(111, frameon=False)\n",
    "# hide tick and tick label of the big axis\n",
    "plt.tick_params(labelcolor='none', which='both', top=False, bottom=False, left=False, right=False)\n",
    "plt.xlabel(\"Period (d)\", labelpad=-2, fontsize=14)\n",
    "plt.ylabel(\"Power\", labelpad=-1, fontsize=14)\n",
    "axes[0].text(0.57, 0.83, 'TOI-1199 b', transform=axes[0].transAxes, fontsize=12, ha='right', fontweight='semibold', fontfamily='serif',\n",
    "             bbox=dict(facecolor='white', edgecolor='gray', boxstyle='round', pad=0.1, lw=0, alpha=0.8))\n",
    "\n",
    "formatter = ScalarFormatter()\n",
    "axes[3].xaxis.set_major_formatter(formatter)\n",
    "#plt.savefig('periodograms_1199.png', dpi=400, bbox_inches='tight', facecolor='white')\n",
    "plt.show()"
   ]
  },
  {
   "cell_type": "code",
   "execution_count": null,
   "id": "dd4dc848",
   "metadata": {},
   "outputs": [],
   "source": [
    "# esto lo hice para hacer la tabla de rvs en el latex\n",
    "# tabla = pd.read_table('./data/rvs/1199_final_rvs.dat', sep='\\s+', header=0, names=['time', 'rv', 'rv_err', 'bis'])\n",
    "# tabla2 = pd.read_table('./data/rvs/1273_final_rvs.dat', sep='\\s+', header=0, names=['time', 'rv', 'rv_err', 'bis'])\n",
    "# for i in range(4):\n",
    "#     if i < 3:\n",
    "#         tabla.insert(2*i+1, '&'+str(i), '&')\n",
    "#         tabla2.insert(2*i+1, '&'+str(i), '&')\n",
    "#     else:\n",
    "#         tabla.insert(2*i+1, '&'+str(i), '\\\\\\\\')\n",
    "#         tabla2.insert(2*i+1, '&'+str(i), '\\\\\\\\')\n",
    "\n",
    "# tabla.to_csv('./data/rvs/latex_1199.txt', header=None, index=None, sep=' ', mode='w')\n",
    "# tabla2.to_csv('./data/rvs/latex_1273.txt', header=None, index=None, sep=' ', mode='w')"
   ]
  },
  {
   "attachments": {},
   "cell_type": "markdown",
   "id": "0fc75cec",
   "metadata": {},
   "source": [
    "## Fit figure paper"
   ]
  },
  {
   "cell_type": "code",
   "execution_count": null,
   "id": "87fd7937",
   "metadata": {},
   "outputs": [],
   "source": [
    "def format_axes(fig):\n",
    "    for i, ax in enumerate(fig.axes):\n",
    "        ax.tick_params(axis='both', which='major', size=3, left=True, right=True, top=True, bottom=True, direction='in', labelsize=11)\n",
    "        ax.tick_params(axis='both', which='minor', size=1.5, left=True, right=True, top=True, bottom=True, direction='in', labelsize=11)\n",
    "# format_axes(fig)\n"
   ]
  },
  {
   "cell_type": "code",
   "execution_count": null,
   "id": "bbdefd95",
   "metadata": {},
   "outputs": [],
   "source": [
    "fig = plt.figure(figsize=(14, 6), constrained_layout=False)\n",
    "outer_grid = fig.add_gridspec(4, 4, wspace=0.5, hspace=0.5)\n",
    "\n",
    "inner_grid1 = outer_grid[0:2, 0:2].subgridspec(1, 2, wspace=0, hspace=0.1)\n",
    "axs1 = inner_grid1.subplots(sharey=True)\n",
    "\n",
    "inner_grid2 = outer_grid[2:4, 0:2].subgridspec(1, 2, wspace=0, hspace=0.1)\n",
    "axs2 = inner_grid2.subplots(sharey=True)\n",
    "\n",
    "inner_grid3 = outer_grid[0:4, 2:4].subgridspec(2, 1, wspace=0.1, hspace=0, height_ratios=[3, 1])\n",
    "axs3 = inner_grid3.subplots(sharex=True)\n",
    "\n",
    "#tess 2 min\n",
    "x1, y1, yerr1 = datasets['tess_2min'][:3]\n",
    "x1_fold = (x1 - t0_ + 0.5 * p_) % p_ - 0.5 * p_\n",
    "# axs1[0].plot(x1_fold*24, y1-tess_2min_mean, marker='o', ls='none', color='lightgrey', \n",
    "#             alpha=1, label=\"TESS 2min\", ms=1, zorder=3)\n",
    "# axs1[0].errorbar(x1_fold*24, y1-tess_2min_mean, yerr=yerr1, fmt='none', color='lightgrey',\n",
    "#              alpha=0.4, elinewidth=0.5, ecolor='darkgrey', capsize=0, zorder=2)\n",
    "axs1[0].errorbar(x1_fold*24, y1-tess_2min_mean, yerr=yerr1, fmt=\"o\", color='lightgrey', \n",
    "            mec='darkgrey', mew=0.2, ecolor='darkgrey', elinewidth=0.2, label=\"TESS 2-min\", alpha=1, zorder=1, ms=4) \n",
    "\n",
    "lcc1 = lk.LightCurve(time=x1_fold, flux=y1-tess_2min_mean, flux_err=yerr1)\n",
    "lcc1_binned = lcc1.bin(time_bin_size=0.01)\n",
    "axs1[0].scatter(lcc1_binned['time'].value*24, lcc1_binned['flux'].value, marker='o', s=15,  \n",
    "                c='k', alpha=0.9, zorder=12)\n",
    "pred1 = np.percentile(flat_samps[\"tess_2min_lc_pred\"], [16, 50, 84], axis=-1)\n",
    "axs1[0].plot(phase_lc*24, pred1[1], color='gold', label=\"model\", lw=1.5, zorder=4)\n",
    "art = axs1[0].fill_between(phase_lc*24, pred1[0], pred1[2], color='gold', alpha=0.5, zorder=5)\n",
    "art.set_edgecolor(\"none\")\n",
    "axs1[0].set_xlim(-0.08*24, 0.08*24)\n",
    "axs1[0].set_ylim(-9, 6)\n",
    "axs1[0].set_yticks([-8,-4,0,4])\n",
    "axs1[0].set_ylabel(u'$\\Delta$ Flux (‰)', fontsize=12, labelpad=0.5)\n",
    "axs1[0].set_xlabel(\"Time (h)\", fontsize=12, labelpad=0.5)\n",
    "axs1[0].text(0.362, 0.9, 'TESS 2-min', transform=axs1[0].transAxes, fontsize=10, ha='right', fontweight='normal', fontfamily='sans-serif',\n",
    "             bbox=dict(facecolor='white', edgecolor='k', boxstyle='round', pad=0.2, lw=0.5, alpha=0.8))\n",
    "\n",
    "#tess 30 min\n",
    "x2, y2, yerr2 = datasets['tess_30min'][:3]\n",
    "x2_fold = (x2 - t0_ + 0.5 * p_) % p_ - 0.5 * p_\n",
    "# axs1[1].plot(x2_fold*24, y2-tess_30min_mean, marker='o', ls='none', color='lightgrey',\n",
    "#             mec='lightgrey', mew=1, alpha=1, label=\"TESS 30min\", ms=4)\n",
    "# axs1[1].errorbar(x2_fold*24, y2-tess_30min_mean, yerr=yerr2, fmt='none', color='lightgrey',\n",
    "#              alpha=0.4, elinewidth=0.5, ecolor='darkgrey', capsize=0, zorder=2)\n",
    "\n",
    "axs1[1].errorbar(x2_fold*24, y2-tess_30min_mean, yerr=yerr2, fmt=\"o\", color='lightgrey', \n",
    "            mec='darkgrey', mew=0.2, ecolor='darkgrey', elinewidth=0.2, label=\"TESS 30-min\", alpha=1, zorder=1, ms=4) \n",
    "\n",
    "lcc2 = lk.LightCurve(time=x2_fold, flux=y2-tess_30min_mean, flux_err=yerr2)\n",
    "lcc2_binned = lcc2.bin(time_bin_size=0.02)\n",
    "axs1[1].scatter(lcc2_binned['time'].value*24, lcc2_binned['flux'].value, marker='o', s=15,\n",
    "                c='k', alpha=0.9, zorder=12)\n",
    "pred2 = np.percentile(flat_samps[\"tess_30min_lc_pred\"], [16, 50, 84], axis=-1)\n",
    "axs1[1].plot(phase_lc*24, pred2[1], color='gold', label=\"model\", lw=1.5)\n",
    "art = axs1[1].fill_between(phase_lc*24, pred2[0], pred2[2], color='gold', alpha=0.5, zorder=2)\n",
    "art.set_edgecolor(\"none\")\n",
    "axs1[1].set_xlim(-0.08*24, 0.08*24)\n",
    "axs1[1].set_ylim(-9, 6)\n",
    "axs1[1].set_xlabel(\"Time (h)\", fontsize=12, labelpad=0.5)\n",
    "axs1[1].text(0.394, 0.9, 'TESS 30-min', transform=axs1[1].transAxes, fontsize=10, ha='right', fontweight='normal', fontfamily='sans-serif',\n",
    "             bbox=dict(facecolor='white', edgecolor='k', boxstyle='round', pad=0.2, lw=0.5, alpha=0.8))\n",
    "\n",
    "# keplercam_B\n",
    "x3, y3, yerr3 = datasets['keplercam_B'][:3]\n",
    "x3_fold = (x3 - t0_ + 0.5 * p_) % p_ - 0.5 * p_\n",
    "# axs2[0].plot(x3_fold*24, y3-keplercam_B_mean, marker='o', ls='none', color='lightgrey',\n",
    "#             mec='lightgrey', mew=1, alpha=1, label=\"Keplercam B\", ms=4)\n",
    "# axs2[0].errorbar(x3_fold*24, y3-keplercam_B_mean, yerr=yerr3, fmt='o', color=colormap1[2],\n",
    "#              alpha=0.8, ms=4, zorder=8, elinewidth=0.5, capsize=0)\n",
    "axs2[0].errorbar(x3_fold*24, y3-keplercam_B_mean, yerr=yerr3, fmt=\"o\", color='lightgrey', \n",
    "            mec='darkgrey', mew=0.2, ecolor='darkgrey', elinewidth=0.2, label=\"Keplercam B\", alpha=1, zorder=1, ms=4) \n",
    "\n",
    "lcc3 = lk.LightCurve(time=x3_fold, flux=y3-keplercam_B_mean, flux_err=yerr3)\n",
    "lcc3_binned = lcc3.bin(time_bin_size=0.01)\n",
    "axs2[0].scatter(lcc3_binned['time'].value*24, lcc3_binned['flux'].value, marker='o', s=15,\n",
    "                c='k', alpha=0.9, zorder=12)\n",
    "pred3 = np.percentile(flat_samps[\"keplercam_B_lc_pred\"], [16, 50, 84], axis=-1)\n",
    "axs2[0].plot(phase_lc*24, pred3[1], color=colormap1[2], label=\"model\", lw=1.5)\n",
    "art = axs2[0].fill_between(phase_lc*24, pred3[0], pred3[2], color=colormap1[2], alpha=0.5, zorder=2)\n",
    "art.set_edgecolor(\"none\")\n",
    "axs2[0].set_xlim(-0.08*24, 0.08*24)\n",
    "axs2[0].set_ylim(-9, 6)\n",
    "axs2[0].set_yticks([-8,-4,0,4])\n",
    "axs2[0].set_ylabel(u'$\\Delta$ Flux (‰)', fontsize=12, labelpad=0.5)\n",
    "axs2[0].set_xlabel(\"Time (h)\", fontsize=12, labelpad=0.5)\n",
    "axs2[0].text(0.3915, 0.9, 'Keplercam B', transform=axs2[0].transAxes, fontsize=10, ha='right', fontweight='normal', fontfamily='sans-serif',\n",
    "             bbox=dict(facecolor='white', edgecolor='k', boxstyle='round', pad=0.2, lw=0.5, alpha=0.8))\n",
    "\n",
    "# keplercam_z\n",
    "x4, y4, yerr4 = datasets['keplercam_z'][:3]\n",
    "x4_fold = (x4 - t0_ + 0.5 * p_) % p_ - 0.5 * p_\n",
    "# axs2[1].plot(x4_fold*24, y4-keplercam_z_mean, marker='o', ls='none', color='lightgrey',\n",
    "#             mec='lightgrey', mew=1, alpha=1, label=\"Keplercam z\", ms=4)\n",
    "# axs2[1].errorbar(x4_fold*24, y4-keplercam_z_mean, yerr=yerr4, fmt='o', color=colormap1[3],\n",
    "#              alpha=0.8, ms=4, zorder=8, elinewidth=0.5, capsize=0)\n",
    "axs2[1].errorbar(x4_fold*24, y4-keplercam_z_mean, yerr=yerr4, fmt=\"o\", color='lightgrey', \n",
    "            mec='darkgrey', mew=0.2, ecolor='darkgrey', elinewidth=0.2, label=\"Keplercam z\", alpha=1, zorder=1, ms=4) \n",
    "lcc4 = lk.LightCurve(time=x4_fold, flux=y4-keplercam_z_mean, flux_err=yerr4)\n",
    "lcc4_binned = lcc4.bin(time_bin_size=0.01)\n",
    "axs2[1].scatter(lcc4_binned['time'].value*24, lcc4_binned['flux'].value, marker='o', s=15,\n",
    "                c='k', alpha=0.9, zorder=12)\n",
    "pred4 = np.percentile(flat_samps[\"keplercam_z_lc_pred\"], [16, 50, 84], axis=-1)\n",
    "axs2[1].plot(phase_lc*24, pred4[1], color=colormap1[6], label=\"model\", lw=1.5)\n",
    "art = axs2[1].fill_between(phase_lc*24, pred4[0], pred4[2], color=colormap1[6], alpha=0.5, zorder=2)\n",
    "art.set_edgecolor(\"none\")\n",
    "axs2[1].set_xlim(-0.08*24, 0.08*24)\n",
    "axs2[1].set_ylim(-9, 6)\n",
    "axs2[1].set_xlabel(\"Time (h)\", fontsize=12, labelpad=0.5)\n",
    "axs2[1].text(0.385, 0.9, 'Keplercam z', transform=axs2[1].transAxes, fontsize=10, ha='right', fontdict=dict(fontweight='normal', fontfamily='sans-serif'),\n",
    "            bbox=dict(facecolor='white', edgecolor='k', boxstyle='round', pad=0.2, lw=0.5, alpha=0.8))\n",
    "\n",
    "\n",
    "# Plot RVs\n",
    "# Plot the folded data\n",
    "x_fold = (x_rv - t0_ + 0.5 * p_) % p_ - 0.5 * p_\n",
    "axs3[0].errorbar(x_fold/p_, y_rv - bkg_, yerr=np.sqrt(yerr_rv**2+rv_jitter**2), fmt=\"o\", color='lightgrey', \n",
    "            markeredgecolor='darkgrey', ecolor='darkgrey', elinewidth=0.5, label='SOPHIE RV\\'s', alpha=1, zorder=1) \n",
    "\n",
    "# Compute the posterior prediction for the folded RV model \n",
    "t_fold = (t_rv - t0_ + 0.5 * p_) % p_ - 0.5 * p_\n",
    "inds = np.argsort(t_fold)\n",
    "pred = np.percentile(trace.posterior[\"vrad_pred\"].values[:, :, inds],[16, 50, 84],axis=(0, 1),)\n",
    "axs3[0].plot(t_fold[inds]/p_, pred[1], color=\"#FF7F00\", label=\"Model\", zorder=2, lw=1.5)\n",
    "art = axs3[0].fill_between(t_fold[inds]/p_, pred[0], pred[2], color=\"#FF7F00\", alpha=0.5, zorder=2) #color=\"#988ED5\"\n",
    "art.set_edgecolor(\"none\")\n",
    "axs3[0].set_xlim(-0.51, 0.51)\n",
    "axs3[0].set_ylim(-58, 70)\n",
    "axs3[0].set_ylabel(\"RV (m s$^{-1}$)\", labelpad=1, fontsize=12)\n",
    "axs3[0].text(0.195, 0.935, 'SOPHIE RV\\'s', transform=axs3[0].transAxes, fontsize=10, ha='right', fontweight='normal', \n",
    "             fontfamily='sans-serif', bbox=dict(facecolor='white', edgecolor='k', boxstyle='round', pad=0.2, lw=0.5, alpha=0.8))\n",
    "\n",
    "# Plot the folded residuals\n",
    "axs3[1].axhline(y=0, ls='--', color='k', linewidth=1, alpha=0.5, zorder=1)\n",
    "axs3[1].errorbar(x_fold/p_, y_rv-rv_model_, yerr=np.sqrt(yerr_rv**2+rv_jitter**2), fmt=\"o\", color='lightgray',\n",
    "            markeredgecolor='darkgray', ecolor='darkgray', elinewidth=0.5, alpha=1, label='residuals', zorder=2)\n",
    "axs3[1].set_ylabel('Residuals', labelpad=1, fontsize=12)\n",
    "axs3[1].set_xlabel(\"Phase\", labelpad=1, fontsize=12)\n",
    "axs3[1].set_xlim(-0.51, 0.51)\n",
    "axs3[1].set_ylim(-40, 45)\n",
    "axs3[1].set_xticks([-0.5, 0, 0.5])\n",
    "axs3[1].set_yticks([-30, 0, 30])\n",
    "\n",
    "format_axes(fig)\n",
    "#plt.savefig('1199_fits.png', dpi=300, bbox_inches='tight')"
   ]
  },
  {
   "attachments": {},
   "cell_type": "markdown",
   "id": "823f9670",
   "metadata": {},
   "source": [
    "# TTVs?"
   ]
  },
  {
   "cell_type": "code",
   "execution_count": null,
   "id": "ce5fdf9f",
   "metadata": {},
   "outputs": [],
   "source": [
    "#t0_, p_\n",
    "print(xlong_)\n",
    "print(t0_)"
   ]
  },
  {
   "cell_type": "code",
   "execution_count": null,
   "id": "2ebf1a98",
   "metadata": {},
   "outputs": [],
   "source": [
    "transit_times = xo.orbits.ttv.compute_expected_transit_times(-844, -100, p_, t0_)"
   ]
  },
  {
   "cell_type": "code",
   "execution_count": null,
   "id": "c28bd4df",
   "metadata": {},
   "outputs": [],
   "source": [
    "plt.plot(xlong_, ylong_, 'k.', ms=1)\n",
    "# plt.xlim(-850,-840)"
   ]
  },
  {
   "cell_type": "code",
   "execution_count": null,
   "id": "8eb54d0a",
   "metadata": {},
   "outputs": [],
   "source": [
    "# un punto a la izquierda de cada transito, son 10\n",
    "pcentros = [-633, -636.5, -640, -647.5, -651, -655, -823.5, -827.5, -838.5, -842 ]"
   ]
  },
  {
   "cell_type": "code",
   "execution_count": null,
   "id": "d3248090",
   "metadata": {},
   "outputs": [],
   "source": [
    "# usemos uncertainties para propagar el error a Tc\n",
    "t0_error = ufloat(t0_, t0_err)\n",
    "p_error = ufloat(p_, p_err)"
   ]
  },
  {
   "cell_type": "code",
   "execution_count": null,
   "id": "ecb24f3c",
   "metadata": {},
   "outputs": [],
   "source": [
    "# define a list of 10 diferent colors\n",
    "colorcycle = ['#1f77b4', '#ff7f0e', '#2ca02c', '#d62728', '#9467bd',\n",
    "              '#8c564b', '#e377c2', '#7f7f7f', '#bcbd22', '#17becf']"
   ]
  },
  {
   "cell_type": "code",
   "execution_count": null,
   "id": "cf0fe23c",
   "metadata": {},
   "outputs": [],
   "source": [
    "fig, ax = plt.subplots(figsize=(10, 5))\n",
    "for n, i in enumerate(pcentros):\n",
    "    npe = np.floor((i-t0_)/p_)+1\n",
    "    tc = t0_error + p_error*(npe)\n",
    "    xlong_2 = xlong_[np.abs(xlong_ - tc.nominal_value) < 0.08*p_]\n",
    "    ylong_2 = ylong_[np.abs(xlong_ - tc.nominal_value) < 0.08*p_]\n",
    "    yerrlong_2 = yerrlong_[np.abs(xlong_ + tc.nominal_value) < 0.08*p_]\n",
    "    xlong_2_err = []\n",
    "    for k in xlong_2:\n",
    "        #xlong_2_err.append((k - tc)/p_error)\n",
    "        xlong_2_err.append((k - npe*p_error-t0_))\n",
    "    #ax.set_color_cycle([plt.cm.spectral(i) for i in np.linspace(0, 1, 10)])\n",
    "    for r, m in enumerate(xlong_2_err):\n",
    "        plt.errorbar(x=m.nominal_value*24, y=ylong_2[r], xerr=m.s*24, fmt='o', color=colorcycle[n], ms=3)\n",
    "plt.axvline(0, color=\"k\", ls='--', lw=1, alpha=0.7)\n",
    "plt.xlim(-0.08*24, 0.08*24)\n",
    "#plt.savefig('1199_ttvs.png', dpi=300, bbox_inches='tight')"
   ]
  },
  {
   "attachments": {},
   "cell_type": "markdown",
   "id": "c9f7c486",
   "metadata": {},
   "source": [
    "# RV trend results"
   ]
  },
  {
   "cell_type": "code",
   "execution_count": null,
   "id": "acb11c32",
   "metadata": {},
   "outputs": [],
   "source": [
    "bkg_trend = np.percentile(trace.posterior[\"bkg\"].values[:, :,],[16, 50, 84], axis=(0, 1))\n",
    "bkg_trend2 = np.percentile(trace.posterior[\"bkg\"].values[:, :,],[0.15, 50, 99.85], axis=(0, 1))\n",
    "fig, (ax1, ax2) = plt.subplots(2, figsize=(8, 6), sharex=True)\n",
    "fig.subplots_adjust(hspace=0)\n",
    "\n",
    "ax1.plot(x_rv, bkg_trend[1], color=\"k\", label=\"Background model TOI-1199\")\n",
    "art = ax1.fill_between(x_rv, bkg_trend[0], bkg_trend[2], color=\"#988ED5\", alpha=0.5, label='1-sigma') \n",
    "art.set_edgecolor(\"none\")\n",
    "ax1.legend(loc='upper right', fontsize=10, frameon=True, markerscale=1, handlelength=1, handletextpad=0.5)\n",
    "ax1.set_ylabel(\"RV (m s$^{-1}$)\", labelpad=1, fontsize=12)\n",
    "dataset_length = x_rv.max() - x_rv.min()\n",
    "max_k = bkg_trend[2].max() - bkg_trend[0].min()\n",
    "# write the max drift in the plot\n",
    "ax1.text(0.05, 0.9, 'Max drift: {:.2f} m/s in {:.2f} days'.format(max_k, dataset_length), transform=ax1.transAxes, fontsize=12,\n",
    "        verticalalignment='top', bbox=dict(boxstyle='round', facecolor='white', alpha=0.5))\n",
    "# tick params\n",
    "ax1.tick_params(axis='both', which='major', labelsize=12, direction='in', top=True, right=True, bottom=True, left=True)\n",
    "ax1.tick_params(axis='both', which='minor', labelsize=12, direction='in', top=True, right=True, bottom=True, left=True)\n",
    "ax2.plot(x_rv, bkg_trend2[1], color=\"k\", label=\"Background model TOI-1199\")\n",
    "art = ax2.fill_between(x_rv, bkg_trend2[0], bkg_trend2[2], color=\"#988ED5\", alpha=0.5, label='3-sigma')\n",
    "art.set_edgecolor(\"none\")\n",
    "ax2.legend(loc='upper right', fontsize=10, frameon=True, markerscale=1, handlelength=1, handletextpad=0.5)\n",
    "ax2.set_xlabel(\"Time [BJD - 2450000]\", labelpad=1, fontsize=12)\n",
    "ax2.set_ylabel(\"RV (m s$^{-1}$)\", labelpad=1, fontsize=12)\n",
    "max_k2 = bkg_trend2[2].max() - bkg_trend2[0].min()\n",
    "# write the max drift in the plot\n",
    "ax2.text(0.05, 0.9, 'Max drift: {:.2f} m/s'.format(max_k2), transform=ax2.transAxes, fontsize=12,\n",
    "        verticalalignment='top', bbox=dict(boxstyle='round', facecolor='white', alpha=0.5))\n",
    "# tick params\n",
    "ax2.tick_params(axis='both', which='major', labelsize=12, direction='in', top=True, right=True, bottom=True, left=True)\n",
    "ax2.tick_params(axis='both', which='minor', labelsize=12, direction='in', top=True, right=True, bottom=True, left=True)\n",
    "#plt.savefig('drift_1199.png', dpi=300, bbox_inches='tight', facecolor='white')\n",
    "plt.show()"
   ]
  },
  {
   "cell_type": "code",
   "execution_count": null,
   "metadata": {},
   "outputs": [],
   "source": [
    "mass_max = max_k*np.sqrt(1-eccen.s**2)*(periodo*u.day.to(u.second)*(trace.posterior[\"m_star\"].median().item()*u.M_sun.to(u.kg))**2/(2*np.pi*constants.G))**(1/3)*u.kg.to(u.M_jup)\n",
    "mass_max"
   ]
  },
  {
   "cell_type": "code",
   "execution_count": null,
   "id": "818f4a8d",
   "metadata": {},
   "outputs": [],
   "source": [
    "892.71*2"
   ]
  },
  {
   "cell_type": "code",
   "execution_count": null,
   "id": "9849e479",
   "metadata": {},
   "outputs": [],
   "source": [
    "# pred = np.percentile(flat_samps[\"bkg_lc_pred\"], [16, 50, 84], axis=-1)"
   ]
  },
  {
   "attachments": {},
   "cell_type": "markdown",
   "id": "a8d64bb5",
   "metadata": {},
   "source": [
    "# Additional LCs"
   ]
  },
  {
   "attachments": {},
   "cell_type": "markdown",
   "id": "a72c09ec",
   "metadata": {},
   "source": [
    "CROW"
   ]
  },
  {
   "cell_type": "code",
   "execution_count": null,
   "id": "b48ca8e4",
   "metadata": {},
   "outputs": [],
   "source": [
    "#crow = pd.read_table('./data/photom/TOI1199/CROW/crow_measurements.dat')\n",
    "crow = pd.read_table('./data/photom/TOI1199/CROW/TIC_99869022_01_20200204_CROW_g_measurements.tbl', sep='\\s+')\n",
    "# names of the columns are: 'rel_flux_T1_dn', 'rel_flux_err_T1_dn', 'BJD_TDB'"
   ]
  },
  {
   "cell_type": "code",
   "execution_count": null,
   "id": "bd956f37",
   "metadata": {},
   "outputs": [],
   "source": [
    "# crow['flux'] = ((crow['rel_flux_T1']/(crow['rel_flux_T1'].median())))*1e3\n",
    "# crow['flux_err'] = ((crow['rel_flux_err_T1']/(crow['rel_flux_T1'].median())))*1e3\n",
    "# crow['time'] = crow['BJD_TDB']-2457000-ref_time\n",
    "\n",
    "crow['time'] = crow['BJD_TDB']-2457000-ref_time\n",
    "crow['flux'] = crow['rel_flux_T1_dfn']\n",
    "crow['flux_err'] = crow['rel_flux_err_T1_dfn']\n"
   ]
  },
  {
   "cell_type": "code",
   "execution_count": null,
   "id": "5e8cc987",
   "metadata": {},
   "outputs": [],
   "source": [
    "#puntos?\n",
    "print('puntos:', len(crow))\n",
    "# texp?\n",
    "print('texp:', np.median(np.diff(crow['BJD_TDB']))*24*60*60)"
   ]
  },
  {
   "cell_type": "code",
   "execution_count": null,
   "id": "953a8c3e",
   "metadata": {},
   "outputs": [],
   "source": [
    "plt.subplots(figsize=(12,5))\n",
    "plt.plot(crow['time'], (crow['flux']*1e3-1e3), 'o', label='CROW')\n",
    "#plt.plot(crow['time'], crow2['rel_flux_T1_dn'], 'o', label='CROW')\n",
    "#plt.ylim(-20,20)\n",
    "plt.show()"
   ]
  },
  {
   "cell_type": "code",
   "execution_count": null,
   "id": "7ed33900",
   "metadata": {},
   "outputs": [],
   "source": [
    "from scipy.stats import binned_statistic\n",
    "asd = binned_statistic(crow['time'], crow['rel_flux_T1_dn']*1e3-1e3, bins=len(crow)/2)\n",
    "asd_time = binned_statistic(crow['time'], crow['time'], bins=len(crow)/2)\n",
    "len(asd_time[0])"
   ]
  },
  {
   "cell_type": "code",
   "execution_count": null,
   "id": "7821fd98",
   "metadata": {},
   "outputs": [],
   "source": [
    "plt.subplots(figsize=(12,5))\n",
    "plt.plot(asd_time[0], asd[0], 'o', label='cat')\n",
    "plt.ylim(-20,20)\n",
    "plt.show()"
   ]
  },
  {
   "attachments": {},
   "cell_type": "markdown",
   "id": "e3d27be8",
   "metadata": {},
   "source": [
    "WBRO"
   ]
  },
  {
   "cell_type": "code",
   "execution_count": null,
   "id": "1b909dfc",
   "metadata": {},
   "outputs": [],
   "source": [
    "wbro = pd.read_table('./data/photom/TOI1199/WBRO/TIC99869022-01_20200204_WBRO-24cm_R_measurements.tbl')"
   ]
  },
  {
   "cell_type": "code",
   "execution_count": null,
   "id": "d25059c1",
   "metadata": {},
   "outputs": [],
   "source": [
    "# wbro['flux'] = ((wbro['rel_flux_T1']/(wbro['rel_flux_T1'].median())))*1e3\n",
    "# wbro['flux_err'] = ((wbro['rel_flux_err_T1']/(wbro['rel_flux_T1'].median())))*1e3\n",
    "wbro['time'] = wbro['BJD_TDB']-2457000-ref_time\n",
    "\n",
    "wbro['flux'] = wbro['rel_flux_T1_dfn']\n",
    "wbro['flux_err'] = wbro['rel_flux_err_T1_dfn']"
   ]
  },
  {
   "cell_type": "code",
   "execution_count": null,
   "id": "e5dab3a3",
   "metadata": {},
   "outputs": [],
   "source": [
    "#puntos?\n",
    "print('puntos:', len(wbro))\n",
    "# texp?\n",
    "print('texp:', np.median(np.diff(wbro['BJD_TDB']))*24*60*60)"
   ]
  },
  {
   "cell_type": "code",
   "execution_count": null,
   "id": "3ef5c586",
   "metadata": {},
   "outputs": [],
   "source": [
    "plt.subplots(figsize=(12,5))\n",
    "plt.plot(wbro['time'], wbro['flux']*1e3-1e3, 'o', label='wbro')\n",
    "plt.show()"
   ]
  },
  {
   "attachments": {},
   "cell_type": "markdown",
   "id": "ee9d4031",
   "metadata": {},
   "source": [
    "WCO"
   ]
  },
  {
   "cell_type": "code",
   "execution_count": null,
   "id": "d8f7dbbc",
   "metadata": {},
   "outputs": [],
   "source": [
    "wco = pd.read_table('./data/photom/TOI1199/WCO/TIC99869022-01_20201209_WCO_gp_measurements.tbl')"
   ]
  },
  {
   "cell_type": "code",
   "execution_count": null,
   "id": "9c2315b1",
   "metadata": {},
   "outputs": [],
   "source": [
    "# wco['flux'] = ((wco['rel_flux_T1']/(wco['rel_flux_T1'].median())))\n",
    "# wco['flux_err'] = ((wco['rel_flux_err_T1']/(wco['rel_flux_T1'].median())))\n",
    "wco['time'] = wco['BJD_TDB']-2457000-ref_time\n",
    "wco['flux'] = wco['rel_flux_T1_dfn']\n",
    "wco['flux_err'] = wco['rel_flux_err_T1_dfn']"
   ]
  },
  {
   "cell_type": "code",
   "execution_count": null,
   "id": "ecd25144",
   "metadata": {},
   "outputs": [],
   "source": [
    "print('puntos:', len(wco))\n",
    "print('texp:', np.median(np.diff(wco['BJD_TDB']))*24*60*60)"
   ]
  },
  {
   "cell_type": "code",
   "execution_count": null,
   "id": "59f8dc28",
   "metadata": {},
   "outputs": [],
   "source": [
    "plt.subplots(figsize=(12,5))\n",
    "plt.plot(wco['time'], wco['flux']*1e3-1e3, 'o', label='wco')\n",
    "# horizontal line at 0\n",
    "plt.axhline(0, color='k', lw=1)\n",
    "plt.show()"
   ]
  },
  {
   "attachments": {},
   "cell_type": "markdown",
   "id": "bf281a57",
   "metadata": {},
   "source": [
    "## Extra LCs Phase plot"
   ]
  },
  {
   "cell_type": "code",
   "execution_count": null,
   "id": "e95329aa",
   "metadata": {},
   "outputs": [],
   "source": [
    "extra_datasets = OrderedDict(\n",
    "    [\n",
    "        ('muscat_g', [x_muscat_g, y_muscat_g, yerr_muscat_g]),\n",
    "        ('muscat_r', [x_muscat_r, y_muscat_r, yerr_muscat_r]),\n",
    "        ('muscat_i', [x_muscat_i, y_muscat_i, yerr_muscat_i]),\n",
    "        ('muscat_zs', [x_muscat_zs, y_muscat_zs, yerr_muscat_zs]),\n",
    "        (\"CROW\", [crow['time'], crow['flux']*1e3-1e3, crow['flux_err']*1e3]),\n",
    "        (\"WCO\", [wco['time'], wco['flux']*1e3-1e3, wco['flux_err']*1e3]),\n",
    "        (\"WBRO\", [wbro['time'], wbro['flux']*1e3-1e3, wbro['flux_err']*1e3])\n",
    "    ]\n",
    ")\n",
    "# crow es g'\n",
    "# wbro es Rc\n",
    "# wco es g'"
   ]
  },
  {
   "cell_type": "code",
   "execution_count": null,
   "id": "8e77adcf",
   "metadata": {},
   "outputs": [],
   "source": [
    "extra_datasets.keys()"
   ]
  },
  {
   "cell_type": "code",
   "execution_count": null,
   "id": "cf1c8927",
   "metadata": {},
   "outputs": [],
   "source": [
    "fig, axes = plt.subplots(7, sharex=True, sharey=True, figsize=(5, 14))\n",
    "plt.subplots_adjust(hspace=0.0)\n",
    "# add a big axis, hide frame\n",
    "fig.add_subplot(111, frameon=False)\n",
    "# hide tick and tick label of the big axi\n",
    "plt.tick_params(labelcolor='none', which='both', top=False, bottom=False, left=False, right=False)\n",
    "plt.xlabel(\"Time (h)\", fontsize=11, labelpad=-5)\n",
    "plt.title('TOI-1199', fontsize=11)\n",
    "for n, name in enumerate(extra_datasets):\n",
    "    ax = axes[n]\n",
    "    # plot the folded transits\n",
    "    x, y, yerr = extra_datasets[name][:3]\n",
    "    folded = (x - t0_ + 0.5 * p_) % p_ - 0.5 * p_\n",
    "    mean = np.median(flat_samps[\"tess_2min_mean\"])\n",
    "    pred = np.percentile(flat_samps[\"tess_2min_lc_pred\"], [16, 50, 84], axis=-1)\n",
    "    if n==0:\n",
    "        ax.plot(folded*24, (y  - mean), marker='o', ls='none', color='lightgray', \n",
    "            mec='darkgray', mew=0.5, alpha=1, label=\"MusCAT2 g'\", ms=4)\n",
    "    elif n==1:\n",
    "        ax.plot(folded*24, (y  - mean), marker='o', ls='none', color='lightgray', \n",
    "            mec='darkgray', mew=0.5, alpha=1, label=\"MusCAT2 r'\", ms=4)\n",
    "    elif n==2:\n",
    "        ax.plot(folded*24, (y  - mean), marker='o', ls='none', color='lightgray', \n",
    "            mec='darkgray', mew=0.5, alpha=1, label=\"MusCAT2 i'\", ms=4)\n",
    "    elif n==3:\n",
    "        ax.plot(folded*24, (y  - mean), marker='o', ls='none', color='lightgray', \n",
    "            mec='darkgray', mew=0.5, alpha=1, label=\"MusCAT2 z$_s$'\", ms=4)\n",
    "    elif n==4:\n",
    "        ax.plot(folded*24, (y  - mean), marker='o', ls='none', color='lightgray', \n",
    "            mec='darkgray', mew=0.5, alpha=1, label=\"CROW g'\", ms=4)\n",
    "    elif n==5:\n",
    "        ax.plot(folded*24, (y  - mean), marker='o', ls='none', color='lightgray', \n",
    "            mec='darkgray', mew=0.5, alpha=1, label=\"WCO Rc\", ms=4)\n",
    "    else:\n",
    "        ax.plot(folded*24, (y  - mean), marker='o', ls='none', color='lightgray', \n",
    "            mec='darkgray', mew=0.5, alpha=1, label=\"WBRO g'\", ms=4)\n",
    "    ax.errorbar(folded*24, (y  - mean), yerr=yerr, color='darkgray', ls='none', \n",
    "                alpha=0.2, elinewidth=0.5, capsize=0, zorder=-10)\n",
    "    ax.plot(phase_lc*24, pred[1], color='k', label=\"Best fit model (TESS)\", \n",
    "            linewidth=1.5, alpha=1)\n",
    "    art = ax.fill_between(phase_lc*24, pred[0], pred[2], color='k', \n",
    "                            alpha=0.65)\n",
    "    art.set_edgecolor(\"none\")\n",
    "    ax.set_ylabel(u'$\\Delta Flux$ (‰)', fontsize=11, labelpad=-3)\n",
    "    ax.legend(fontsize=8, loc=2, handlelength=0.5, handletextpad=0.5, borderpad=0.4, markerscale=0.8, \n",
    "                framealpha=1, frameon=True)\n",
    "    ax.tick_params(axis='y', which='major', size=2, left=True, right=True, direction='in', labelsize=11)\n",
    "    ax.tick_params(axis='y', which='minor', size=2, left=True, right=True, direction='in', labelsize=11)\n",
    "    ax.tick_params(axis='x', which='major', size=2, bottom=True, top=True, direction='in', labelsize=11)\n",
    "\n",
    "axes[-1].set_xlim(-0.08*24, 0.08*24)\n",
    "axes[-1].set_ylim(-16, 12)\n",
    "axes[-1].set_xticks([-1,0,1])\n",
    "#plt.savefig('1199_extralcs.png', dpi=1200, bbox_inches='tight', facecolor='white')\n",
    "plt.show()"
   ]
  },
  {
   "cell_type": "code",
   "execution_count": null,
   "id": "c9853cdb",
   "metadata": {},
   "outputs": [],
   "source": []
  }
 ],
 "metadata": {
  "interpreter": {
   "hash": "755f4088592e2ca23da0ea5c845a97fbd67bd8d07a47301bdd385c93533968f4"
  },
  "kernelspec": {
   "display_name": "Python 3.9.7 ('base')",
   "language": "python",
   "name": "python3"
  },
  "language_info": {
   "codemirror_mode": {
    "name": "ipython",
    "version": 3
   },
   "file_extension": ".py",
   "mimetype": "text/x-python",
   "name": "python",
   "nbconvert_exporter": "python",
   "pygments_lexer": "ipython3",
   "version": "3.10.9"
  }
 },
 "nbformat": 4,
 "nbformat_minor": 5
}
