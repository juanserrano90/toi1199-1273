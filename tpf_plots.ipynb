{
 "cells": [
  {
   "cell_type": "code",
   "execution_count": 34,
   "metadata": {},
   "outputs": [
    {
     "name": "stdout",
     "output_type": "stream",
     "text": [
      "======================\n",
      "     tpfplotter       \n",
      "======================\n",
      "\n",
      "* Working on TIC99869022 (ra = 166.880694157693, dec = 61.352715903396) ...\n",
      "\t --> Target found in the CTL!\n",
      "\t --> Using pipeline aperture...\n",
      "\t --> TPF plot written in file: TPF_Gaia_TIC99869022_S48.pdf\n",
      "\t --> Done!\n",
      "\n"
     ]
    }
   ],
   "source": [
    "# toi-1199, sectors: 14,21,41,48\n",
    "!python ~/tpfplotter/tpfplotter.py 99869022 --maglim 6 --sector 48"
   ]
  },
  {
   "cell_type": "code",
   "execution_count": 54,
   "metadata": {},
   "outputs": [
    {
     "name": "stdout",
     "output_type": "stream",
     "text": [
      "======================\n",
      "     tpfplotter       \n",
      "======================\n",
      "\n",
      "* Working on TIC445859771 (ra = 214.120551833405, dec = 58.3904447547356) ...\n",
      "\t --> Target found in the CTL!\n",
      "\t --> Using pipeline aperture...\n",
      "\t --> TPF plot written in file: TPF_Gaia_TIC445859771_S50.pdf\n",
      "\t --> Done!\n",
      "\n"
     ]
    }
   ],
   "source": [
    "# toi-1273, sectors: 15,16,22,23,48,50\n",
    "!python ~/tpfplotter/tpfplotter.py 445859771 --maglim 6 --sector 50"
   ]
  }
 ],
 "metadata": {
  "kernelspec": {
   "display_name": "tois2",
   "language": "python",
   "name": "python3"
  },
  "language_info": {
   "codemirror_mode": {
    "name": "ipython",
    "version": 3
   },
   "file_extension": ".py",
   "mimetype": "text/x-python",
   "name": "python",
   "nbconvert_exporter": "python",
   "pygments_lexer": "ipython3",
   "version": "3.10.9"
  }
 },
 "nbformat": 4,
 "nbformat_minor": 2
}
